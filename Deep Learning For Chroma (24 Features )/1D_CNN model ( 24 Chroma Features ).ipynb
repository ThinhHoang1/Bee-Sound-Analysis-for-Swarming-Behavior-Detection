{
 "cells": [
  {
   "cell_type": "code",
   "execution_count": 1,
   "metadata": {},
   "outputs": [
    {
     "name": "stdout",
     "output_type": "stream",
     "text": [
      "WARNING:tensorflow:From e:\\anaconda\\envs\\pytorch\\Lib\\site-packages\\keras\\src\\losses.py:2976: The name tf.losses.sparse_softmax_cross_entropy is deprecated. Please use tf.compat.v1.losses.sparse_softmax_cross_entropy instead.\n",
      "\n"
     ]
    }
   ],
   "source": [
    "import numpy as np\n",
    "import tensorflow as tf\n",
    "from tensorflow.keras import layers, models\n",
    "from sklearn.model_selection import train_test_split\n",
    "import os\n",
    "import pandas as pd\n",
    "Chroma_folder = \"D:\\Swarming project buzz1\\Features Extracted Data\\Chroma_Features\"\n",
    "\n",
    "Noneswarming_train = np.load(os.path.join(Chroma_folder, 'Train', 'Noneswarming_train.npy'))\n",
    "Swarming_train = np.load(os.path.join(Chroma_folder, 'Train', 'Swarming_train.npy'))\n",
    "\n",
    "Noneswarming_test = np.load(os.path.join(Chroma_folder, 'Test', 'Noneswarming_test.npy'))\n",
    "Swarming_test = np.load(os.path.join(Chroma_folder, 'Test', 'Swarming_test.npy'))\n",
    "\n",
    "Noneswarming_val = np.load(os.path.join(Chroma_folder, 'Val', 'Noneswarming_val.npy'))\n",
    "Swarming_val = np.load(os.path.join(Chroma_folder, 'Val', 'Swarming_val.npy'))"
   ]
  },
  {
   "cell_type": "code",
   "execution_count": 2,
   "metadata": {},
   "outputs": [],
   "source": [
    "# Concatenate the data and create labels\n",
    "X_train = np.concatenate([Noneswarming_train, Swarming_train], axis=0)\n",
    "y_train = np.concatenate([np.zeros(Noneswarming_train.shape[0]), np.ones(Swarming_train.shape[0])])\n",
    "\n",
    "X_test = np.concatenate([Noneswarming_test, Swarming_test], axis=0)\n",
    "y_test = np.concatenate([np.zeros(Noneswarming_test.shape[0]), np.ones(Swarming_test.shape[0])])\n",
    "\n",
    "X_val = np.concatenate([Noneswarming_val, Swarming_val], axis=0)\n",
    "y_val = np.concatenate([np.zeros(Noneswarming_val.shape[0]), np.ones(Swarming_val.shape[0])])"
   ]
  },
  {
   "cell_type": "code",
   "execution_count": 3,
   "metadata": {},
   "outputs": [
    {
     "name": "stdout",
     "output_type": "stream",
     "text": [
      "Shape of X_train: (23385, 24)\n",
      "Shape of X_val: (5641, 24)\n",
      "Shape of X_test: (12773, 24)\n"
     ]
    }
   ],
   "source": [
    "print(\"Shape of X_train: {}\".format(X_train.shape))\n",
    "print(\"Shape of X_val: {}\".format(X_val.shape))\n",
    "print(\"Shape of X_test: {}\".format(X_test.shape))"
   ]
  },
  {
   "cell_type": "code",
   "execution_count": 4,
   "metadata": {},
   "outputs": [
    {
     "name": "stdout",
     "output_type": "stream",
     "text": [
      "Shape of X_train: (23385, 24, 1)\n",
      "Shape of X_val: (5641, 24, 1)\n",
      "Shape of X_test: (12773, 24, 1)\n"
     ]
    }
   ],
   "source": [
    "# Reshape the input data\n",
    "X_train = X_train.reshape( (X_train.shape[0], X_train.shape[1], 1) )\n",
    "X_val = X_val.reshape( (X_val.shape[0], X_val.shape[1], 1) )\n",
    "X_test = X_test.reshape( (X_test.shape[0], X_test.shape[1], 1) )\n",
    "y_train = y_train.reshape( (y_train.shape[0], 1) )\n",
    "y_val = y_val.reshape( (y_val.shape[0], 1) )\n",
    "y_test = y_test.reshape( (y_test.shape[0], 1) )\n",
    "\n",
    "print(\"Shape of X_train: {}\".format(X_train.shape))\n",
    "print(\"Shape of X_val: {}\".format(X_val.shape))\n",
    "print(\"Shape of X_test: {}\".format(X_test.shape))"
   ]
  },
  {
   "cell_type": "code",
   "execution_count": 5,
   "metadata": {},
   "outputs": [],
   "source": [
    "# Shuffle the data\n",
    "shuffle_train = np.random.permutation(len(X_train))\n",
    "X_train, y_train = X_train[shuffle_train], y_train[shuffle_train]\n",
    "\n",
    "shuffle_test = np.random.permutation(len(X_test))\n",
    "X_test, y_test = X_test[shuffle_test], y_test[shuffle_test]\n",
    "\n",
    "shuffle_val = np.random.permutation(len(X_val))\n",
    "X_val, y_val = X_val[shuffle_val], y_val[shuffle_val]"
   ]
  },
  {
   "cell_type": "code",
   "execution_count": 6,
   "metadata": {},
   "outputs": [
    {
     "name": "stderr",
     "output_type": "stream",
     "text": [
      "e:\\anaconda\\envs\\pytorch\\Lib\\site-packages\\sklearn\\preprocessing\\_label.py:114: DataConversionWarning: A column-vector y was passed when a 1d array was expected. Please change the shape of y to (n_samples, ), for example using ravel().\n",
      "  y = column_or_1d(y, warn=True)\n",
      "e:\\anaconda\\envs\\pytorch\\Lib\\site-packages\\sklearn\\preprocessing\\_label.py:132: DataConversionWarning: A column-vector y was passed when a 1d array was expected. Please change the shape of y to (n_samples, ), for example using ravel().\n",
      "  y = column_or_1d(y, dtype=self.classes_.dtype, warn=True)\n",
      "e:\\anaconda\\envs\\pytorch\\Lib\\site-packages\\sklearn\\preprocessing\\_label.py:132: DataConversionWarning: A column-vector y was passed when a 1d array was expected. Please change the shape of y to (n_samples, ), for example using ravel().\n",
      "  y = column_or_1d(y, dtype=self.classes_.dtype, warn=True)\n"
     ]
    }
   ],
   "source": [
    "from sklearn.preprocessing import LabelEncoder, StandardScaler\n",
    "\n",
    "label_encoder = LabelEncoder()\n",
    "\n",
    "# Fit and transform on training data\n",
    "y_train = label_encoder.fit_transform(y_train)\n",
    "\n",
    "# Use the same label encoder to transform validation and test data\n",
    "y_val = label_encoder.transform(y_val)\n",
    "y_test = label_encoder.transform(y_test)\n",
    "\n"
   ]
  },
  {
   "cell_type": "code",
   "execution_count": 7,
   "metadata": {},
   "outputs": [],
   "source": [
    "import matplotlib.pyplot as plt\n",
    "import pandas as pd \n",
    "from sklearn.model_selection import train_test_split\n",
    "from sklearn.preprocessing import LabelEncoder, StandardScaler\n",
    "from sklearn.metrics import *\n",
    "import seaborn as sns\n",
    "import tensorflow as tf\n",
    "from tensorflow.keras import *\n",
    "from tensorflow.keras.callbacks import *\n",
    "import time"
   ]
  },
  {
   "cell_type": "code",
   "execution_count": 8,
   "metadata": {},
   "outputs": [
    {
     "name": "stdout",
     "output_type": "stream",
     "text": [
      "WARNING:tensorflow:From e:\\anaconda\\envs\\pytorch\\Lib\\site-packages\\keras\\src\\backend.py:873: The name tf.get_default_graph is deprecated. Please use tf.compat.v1.get_default_graph instead.\n",
      "\n",
      "WARNING:tensorflow:From e:\\anaconda\\envs\\pytorch\\Lib\\site-packages\\keras\\src\\backend.py:6642: The name tf.nn.max_pool is deprecated. Please use tf.nn.max_pool2d instead.\n",
      "\n"
     ]
    }
   ],
   "source": [
    "\n",
    "model = models.Sequential()\n",
    "model.add(layers.Conv1D(16, 3, activation='relu', input_shape=(X_train.shape[1:])))\n",
    "model.add(layers.MaxPooling1D(2))\n",
    "model.add(layers.Conv1D(32, 3, activation='relu'))\n",
    "model.add(layers.MaxPooling1D(2))\n",
    "model.add(layers.Conv1D(64, 3, activation='relu'))\n",
    "model.add(layers.Flatten())\n",
    "model.add(layers.Dense(128, activation='relu'))\n",
    "model.add(layers.Dense(1, activation='sigmoid'))\n",
    "\n",
    "\n"
   ]
  },
  {
   "cell_type": "code",
   "execution_count": 9,
   "metadata": {},
   "outputs": [
    {
     "name": "stdout",
     "output_type": "stream",
     "text": [
      "Model: \"sequential\"\n",
      "_________________________________________________________________\n",
      " Layer (type)                Output Shape              Param #   \n",
      "=================================================================\n",
      " conv1d (Conv1D)             (None, 22, 16)            64        \n",
      "                                                                 \n",
      " max_pooling1d (MaxPooling1  (None, 11, 16)            0         \n",
      " D)                                                              \n",
      "                                                                 \n",
      " conv1d_1 (Conv1D)           (None, 9, 32)             1568      \n",
      "                                                                 \n",
      " max_pooling1d_1 (MaxPoolin  (None, 4, 32)             0         \n",
      " g1D)                                                            \n",
      "                                                                 \n",
      " conv1d_2 (Conv1D)           (None, 2, 64)             6208      \n",
      "                                                                 \n",
      " flatten (Flatten)           (None, 128)               0         \n",
      "                                                                 \n",
      " dense (Dense)               (None, 128)               16512     \n",
      "                                                                 \n",
      " dense_1 (Dense)             (None, 1)                 129       \n",
      "                                                                 \n"
     ]
    },
    {
     "name": "stdout",
     "output_type": "stream",
     "text": [
      "=================================================================\n",
      "Total params: 24481 (95.63 KB)\n",
      "Trainable params: 24481 (95.63 KB)\n",
      "Non-trainable params: 0 (0.00 Byte)\n",
      "_________________________________________________________________\n"
     ]
    }
   ],
   "source": [
    "model.compile(optimizer=tf.keras.optimizers.Adam(learning_rate=0.00001),\n",
    "              loss='binary_crossentropy',\n",
    "              metrics=['accuracy'])\n",
    "model.summary()"
   ]
  },
  {
   "cell_type": "code",
   "execution_count": 10,
   "metadata": {},
   "outputs": [],
   "source": [
    "earlystopper = EarlyStopping(\n",
    "    monitor='val_loss',\n",
    "    patience=20,\n",
    "    restore_best_weights=True\n",
    ")"
   ]
  },
  {
   "cell_type": "code",
   "execution_count": 11,
   "metadata": {},
   "outputs": [
    {
     "name": "stdout",
     "output_type": "stream",
     "text": [
      "Epoch 1/100\n",
      "WARNING:tensorflow:From e:\\anaconda\\envs\\pytorch\\Lib\\site-packages\\keras\\src\\utils\\tf_utils.py:492: The name tf.ragged.RaggedTensorValue is deprecated. Please use tf.compat.v1.ragged.RaggedTensorValue instead.\n",
      "\n",
      "WARNING:tensorflow:From e:\\anaconda\\envs\\pytorch\\Lib\\site-packages\\keras\\src\\engine\\base_layer_utils.py:384: The name tf.executing_eagerly_outside_functions is deprecated. Please use tf.compat.v1.executing_eagerly_outside_functions instead.\n",
      "\n",
      "366/366 [==============================] - 3s 4ms/step - loss: 0.6875 - accuracy: 0.7594 - val_loss: 0.6898 - val_accuracy: 0.5659\n",
      "Epoch 2/100\n",
      "366/366 [==============================] - 1s 2ms/step - loss: 0.6754 - accuracy: 0.8110 - val_loss: 0.6870 - val_accuracy: 0.6366\n",
      "Epoch 3/100\n",
      "366/366 [==============================] - 1s 3ms/step - loss: 0.6593 - accuracy: 0.8337 - val_loss: 0.6818 - val_accuracy: 0.7084\n",
      "Epoch 4/100\n",
      "366/366 [==============================] - 1s 3ms/step - loss: 0.6337 - accuracy: 0.8418 - val_loss: 0.6747 - val_accuracy: 0.7279\n",
      "Epoch 5/100\n",
      "366/366 [==============================] - 1s 3ms/step - loss: 0.5984 - accuracy: 0.8428 - val_loss: 0.6642 - val_accuracy: 0.7288\n",
      "Epoch 6/100\n",
      "366/366 [==============================] - 1s 3ms/step - loss: 0.5551 - accuracy: 0.8416 - val_loss: 0.6518 - val_accuracy: 0.7321\n",
      "Epoch 7/100\n",
      "366/366 [==============================] - 2s 4ms/step - loss: 0.5093 - accuracy: 0.8431 - val_loss: 0.6354 - val_accuracy: 0.7437\n",
      "Epoch 8/100\n",
      "366/366 [==============================] - 1s 4ms/step - loss: 0.4651 - accuracy: 0.8453 - val_loss: 0.6206 - val_accuracy: 0.7474\n",
      "Epoch 9/100\n",
      "366/366 [==============================] - 2s 4ms/step - loss: 0.4288 - accuracy: 0.8477 - val_loss: 0.6092 - val_accuracy: 0.7523\n",
      "Epoch 10/100\n",
      "366/366 [==============================] - 2s 4ms/step - loss: 0.4023 - accuracy: 0.8489 - val_loss: 0.6016 - val_accuracy: 0.7562\n",
      "Epoch 11/100\n",
      "366/366 [==============================] - 1s 4ms/step - loss: 0.3827 - accuracy: 0.8511 - val_loss: 0.5987 - val_accuracy: 0.7566\n",
      "Epoch 12/100\n",
      "366/366 [==============================] - 2s 4ms/step - loss: 0.3678 - accuracy: 0.8544 - val_loss: 0.5970 - val_accuracy: 0.7603\n",
      "Epoch 13/100\n",
      "366/366 [==============================] - 1s 4ms/step - loss: 0.3557 - accuracy: 0.8571 - val_loss: 0.5958 - val_accuracy: 0.7633\n",
      "Epoch 14/100\n",
      "366/366 [==============================] - 2s 4ms/step - loss: 0.3452 - accuracy: 0.8596 - val_loss: 0.5961 - val_accuracy: 0.7639\n",
      "Epoch 15/100\n",
      "366/366 [==============================] - 2s 4ms/step - loss: 0.3357 - accuracy: 0.8625 - val_loss: 0.5975 - val_accuracy: 0.7658\n",
      "Epoch 16/100\n",
      "366/366 [==============================] - 1s 4ms/step - loss: 0.3268 - accuracy: 0.8650 - val_loss: 0.5992 - val_accuracy: 0.7674\n",
      "Epoch 17/100\n",
      "366/366 [==============================] - 1s 3ms/step - loss: 0.3187 - accuracy: 0.8671 - val_loss: 0.6001 - val_accuracy: 0.7679\n",
      "Epoch 18/100\n",
      "366/366 [==============================] - 1s 3ms/step - loss: 0.3109 - accuracy: 0.8705 - val_loss: 0.6007 - val_accuracy: 0.7683\n",
      "Epoch 19/100\n",
      "366/366 [==============================] - 1s 3ms/step - loss: 0.3034 - accuracy: 0.8727 - val_loss: 0.6046 - val_accuracy: 0.7667\n",
      "Epoch 20/100\n",
      "366/366 [==============================] - 1s 3ms/step - loss: 0.2962 - accuracy: 0.8751 - val_loss: 0.6055 - val_accuracy: 0.7683\n",
      "Epoch 21/100\n",
      "366/366 [==============================] - 1s 3ms/step - loss: 0.2891 - accuracy: 0.8767 - val_loss: 0.6075 - val_accuracy: 0.7685\n",
      "Epoch 22/100\n",
      "366/366 [==============================] - 1s 3ms/step - loss: 0.2820 - accuracy: 0.8789 - val_loss: 0.6112 - val_accuracy: 0.7685\n",
      "Epoch 23/100\n",
      "366/366 [==============================] - 1s 3ms/step - loss: 0.2752 - accuracy: 0.8817 - val_loss: 0.6125 - val_accuracy: 0.7679\n",
      "Epoch 24/100\n",
      "366/366 [==============================] - 1s 3ms/step - loss: 0.2685 - accuracy: 0.8837 - val_loss: 0.6140 - val_accuracy: 0.7683\n",
      "Epoch 25/100\n",
      "366/366 [==============================] - 1s 3ms/step - loss: 0.2619 - accuracy: 0.8861 - val_loss: 0.6176 - val_accuracy: 0.7669\n",
      "Epoch 26/100\n",
      "366/366 [==============================] - 1s 3ms/step - loss: 0.2554 - accuracy: 0.8880 - val_loss: 0.6211 - val_accuracy: 0.7674\n",
      "Epoch 27/100\n",
      "366/366 [==============================] - 1s 3ms/step - loss: 0.2492 - accuracy: 0.8904 - val_loss: 0.6256 - val_accuracy: 0.7681\n",
      "Epoch 28/100\n",
      "366/366 [==============================] - 1s 3ms/step - loss: 0.2431 - accuracy: 0.8923 - val_loss: 0.6307 - val_accuracy: 0.7710\n",
      "Epoch 29/100\n",
      "366/366 [==============================] - 1s 3ms/step - loss: 0.2373 - accuracy: 0.8934 - val_loss: 0.6329 - val_accuracy: 0.7690\n",
      "Epoch 30/100\n",
      "366/366 [==============================] - 1s 3ms/step - loss: 0.2317 - accuracy: 0.8952 - val_loss: 0.6375 - val_accuracy: 0.7715\n",
      "Epoch 31/100\n",
      "366/366 [==============================] - 1s 2ms/step - loss: 0.2264 - accuracy: 0.8974 - val_loss: 0.6436 - val_accuracy: 0.7687\n",
      "Epoch 32/100\n",
      "366/366 [==============================] - 1s 3ms/step - loss: 0.2212 - accuracy: 0.8987 - val_loss: 0.6465 - val_accuracy: 0.7694\n",
      "Epoch 33/100\n",
      "366/366 [==============================] - 1s 3ms/step - loss: 0.2161 - accuracy: 0.9007 - val_loss: 0.6505 - val_accuracy: 0.7685\n",
      "Training completed in 42 seconds.\n"
     ]
    }
   ],
   "source": [
    "epochs = 100\n",
    "batch_size = 64\n",
    "current_time = int(time.time())\n",
    "stop_training_callback = earlystopper\n",
    "history = model.fit(X_train, y_train, \n",
    "                    epochs=epochs, \n",
    "                    batch_size=batch_size,\n",
    "                    validation_data=(X_val, y_val), \n",
    "                    callbacks=[stop_training_callback])\n",
    "print(\"Training completed in {} seconds.\".format(int(time.time()-current_time)))"
   ]
  },
  {
   "cell_type": "code",
   "execution_count": 12,
   "metadata": {},
   "outputs": [
    {
     "data": {
      "image/png": "[encoded data removed]",
      "text/plain": [
       "<Figure size 640x480 with 1 Axes>"
      ]
     },
     "metadata": {},
     "output_type": "display_data"
    }
   ],
   "source": [
    "plt.plot(history.history['loss'], label='Train Loss')\n",
    "# Plot validation loss\n",
    "plt.plot(history.history['val_loss'], label='Validation Loss')\n",
    "\n",
    "plt.title('Training and Validation Loss')\n",
    "plt.xlabel('Epoch')\n",
    "plt.ylabel('Loss')\n",
    "plt.legend()\n",
    "\n",
    "# Save the plot\n",
    "plt.savefig('training_loss 1D_CNN (80 MFCCs Features_plot.png')\n",
    "plt.show()"
   ]
  },
  {
   "cell_type": "code",
   "execution_count": 13,
   "metadata": {},
   "outputs": [
    {
     "name": "stdout",
     "output_type": "stream",
     "text": [
      "731/731 [==============================] - 1s 2ms/step - loss: 0.3501 - accuracy: 0.8586\n",
      "Training Loss: 0.35012170672416687\n",
      "Training Accuracy: 0.8586273193359375\n",
      "177/177 [==============================] - 0s 2ms/step - loss: 0.5958 - accuracy: 0.7633\n",
      "Validation Loss: 0.5958312749862671\n",
      "Validation Accuracy: 0.7633398175239563\n",
      "400/400 [==============================] - 1s 2ms/step - loss: 0.7396 - accuracy: 0.5911\n",
      "Test Loss: 0.7396066188812256\n",
      "Test Accuracy: 0.5910905599594116\n"
     ]
    }
   ],
   "source": [
    "train_loss, train_accuracy = model.evaluate(X_train, y_train)\n",
    "print(f\"Training Loss: {train_loss}\")\n",
    "print(f\"Training Accuracy: {train_accuracy}\")\n",
    "\n",
    "val_loss, val_accuracy = model.evaluate(X_val, y_val)\n",
    "print(f\"Validation Loss: {val_loss}\")\n",
    "print(f\"Validation Accuracy: {val_accuracy}\")\n",
    "\n",
    "test_loss, test_accuracy = model.evaluate(X_test, y_test)\n",
    "print(f\"Test Loss: {test_loss}\")\n",
    "print(f\"Test Accuracy: {test_accuracy}\")"
   ]
  },
  {
   "cell_type": "code",
   "execution_count": 14,
   "metadata": {},
   "outputs": [
    {
     "name": "stdout",
     "output_type": "stream",
     "text": [
      "400/400 [==============================] - 1s 1ms/step\n"
     ]
    },
    {
     "data": {
      "image/png": "[encoded data removed]",
      "text/plain": [
       "<Figure size 800x600 with 2 Axes>"
      ]
     },
     "metadata": {},
     "output_type": "display_data"
    }
   ],
   "source": [
    "from sklearn.metrics import confusion_matrix\n",
    "import seaborn as sns\n",
    "import matplotlib.pyplot as plt\n",
    "\n",
    "# Predict on the test set\n",
    "y_pred = model.predict(X_test)\n",
    "y_pred_classes = (y_pred > 0.5).astype(int)  # Assuming a threshold of 0.5 for binary classification\n",
    "\n",
    "# Compute confusion matrix\n",
    "conf_matrix = confusion_matrix(y_test, y_pred_classes)\n",
    "\n",
    "# Plot the confusion matrix\n",
    "plt.figure(figsize=(8, 6))\n",
    "sns.heatmap(conf_matrix, annot=True, fmt='d', cmap='Blues', \n",
    "            xticklabels=['Non-Swarming', 'Swarming'], \n",
    "            yticklabels=['Non-Swarming', 'Swarming'])\n",
    "plt.title('Confusion Matrix')\n",
    "plt.xlabel('Predicted')\n",
    "plt.ylabel('True')\n",
    "plt.savefig('Confusion Matrix 1D_CNN ( 80 MFCCs Features ).png')\n",
    "plt.show()"
   ]
  }
 ],
 "metadata": {
  "kernelspec": {
   "display_name": "base",
   "language": "python",
   "name": "python3"
  },
  "language_info": {
   "codemirror_mode": {
    "name": "ipython",
    "version": 3
   },
   "file_extension": ".py",
   "mimetype": "text/x-python",
   "name": "python",
   "nbconvert_exporter": "python",
   "pygments_lexer": "ipython3",
   "version": "3.11.7"
  }
 },
 "nbformat": 4,
 "nbformat_minor": 2
}
