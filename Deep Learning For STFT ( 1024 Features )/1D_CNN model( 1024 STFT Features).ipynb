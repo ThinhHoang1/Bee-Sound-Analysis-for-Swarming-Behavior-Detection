{
 "cells": [
  {
   "cell_type": "code",
   "execution_count": 1,
   "metadata": {},
   "outputs": [
    {
     "name": "stdout",
     "output_type": "stream",
     "text": [
      "WARNING:tensorflow:From e:\\anaconda\\envs\\pytorch\\Lib\\site-packages\\keras\\src\\losses.py:2976: The name tf.losses.sparse_softmax_cross_entropy is deprecated. Please use tf.compat.v1.losses.sparse_softmax_cross_entropy instead.\n",
      "\n"
     ]
    }
   ],
   "source": [
    "import numpy as np\n",
    "import tensorflow as tf\n",
    "from tensorflow.keras import layers, models\n",
    "from sklearn.model_selection import train_test_split\n",
    "import os\n",
    "import pandas as pd\n",
    "STFT_folder = \"D:\\Swarming project buzz1\\Features Extracted Data\\STFT_Features\"\n",
    "\n",
    "Noneswarming_train = np.load(os.path.join(STFT_folder, 'Train', 'Noneswarming_train.npy'))\n",
    "Swarming_train = np.load(os.path.join(STFT_folder, 'Train', 'Swarming_train.npy'))\n",
    "\n",
    "Noneswarming_test = np.load(os.path.join(STFT_folder, 'Test', 'Noneswarming_test.npy'))\n",
    "Swarming_test = np.load(os.path.join(STFT_folder, 'Test', 'Swarming_test.npy'))\n",
    "\n",
    "Noneswarming_val = np.load(os.path.join(STFT_folder, 'Val', 'Noneswarming_val.npy'))\n",
    "Swarming_val = np.load(os.path.join(STFT_folder, 'Val', 'Swarming_val.npy'))"
   ]
  },
  {
   "cell_type": "code",
   "execution_count": 2,
   "metadata": {},
   "outputs": [],
   "source": [
    "# Concatenate the data and create labels\n",
    "X_train = np.concatenate([Noneswarming_train, Swarming_train], axis=0)\n",
    "y_train = np.concatenate([np.zeros(Noneswarming_train.shape[0]), np.ones(Swarming_train.shape[0])])\n",
    "\n",
    "X_test = np.concatenate([Noneswarming_test, Swarming_test], axis=0)\n",
    "y_test = np.concatenate([np.zeros(Noneswarming_test.shape[0]), np.ones(Swarming_test.shape[0])])\n",
    "\n",
    "X_val = np.concatenate([Noneswarming_val, Swarming_val], axis=0)\n",
    "y_val = np.concatenate([np.zeros(Noneswarming_val.shape[0]), np.ones(Swarming_val.shape[0])])"
   ]
  },
  {
   "cell_type": "code",
   "execution_count": 3,
   "metadata": {},
   "outputs": [
    {
     "name": "stdout",
     "output_type": "stream",
     "text": [
      "Shape of X_train: (23385, 1024)\n",
      "Shape of X_val: (5641, 1024)\n",
      "Shape of X_test: (12773, 1024)\n"
     ]
    }
   ],
   "source": [
    "print(\"Shape of X_train: {}\".format(X_train.shape))\n",
    "print(\"Shape of X_val: {}\".format(X_val.shape))\n",
    "print(\"Shape of X_test: {}\".format(X_test.shape))\n"
   ]
  },
  {
   "cell_type": "code",
   "execution_count": 4,
   "metadata": {},
   "outputs": [
    {
     "name": "stdout",
     "output_type": "stream",
     "text": [
      "Shape of X_train: (23385, 1024, 1)\n",
      "Shape of X_val: (5641, 1024, 1)\n",
      "Shape of X_test: (12773, 1024, 1)\n"
     ]
    }
   ],
   "source": [
    "# Reshape the input data\n",
    "X_train = X_train.reshape( (X_train.shape[0], X_train.shape[1], 1) )\n",
    "X_val = X_val.reshape( (X_val.shape[0], X_val.shape[1], 1) )\n",
    "X_test = X_test.reshape( (X_test.shape[0], X_test.shape[1], 1) )\n",
    "y_train = y_train.reshape( (y_train.shape[0], 1) )\n",
    "y_val = y_val.reshape( (y_val.shape[0], 1) )\n",
    "y_test = y_test.reshape( (y_test.shape[0], 1) )\n",
    "\n",
    "print(\"Shape of X_train: {}\".format(X_train.shape))\n",
    "print(\"Shape of X_val: {}\".format(X_val.shape))\n",
    "print(\"Shape of X_test: {}\".format(X_test.shape))\n"
   ]
  },
  {
   "cell_type": "code",
   "execution_count": 5,
   "metadata": {},
   "outputs": [],
   "source": [
    "# Shuffle the data\n",
    "shuffle_train = np.random.permutation(len(X_train))\n",
    "X_train, y_train = X_train[shuffle_train], y_train[shuffle_train]\n",
    "\n",
    "shuffle_test = np.random.permutation(len(X_test))\n",
    "X_test, y_test = X_test[shuffle_test], y_test[shuffle_test]\n",
    "\n",
    "shuffle_val = np.random.permutation(len(X_val))\n",
    "X_val, y_val = X_val[shuffle_val], y_val[shuffle_val]"
   ]
  },
  {
   "cell_type": "code",
   "execution_count": 6,
   "metadata": {},
   "outputs": [
    {
     "name": "stderr",
     "output_type": "stream",
     "text": [
      "e:\\anaconda\\envs\\pytorch\\Lib\\site-packages\\sklearn\\preprocessing\\_label.py:114: DataConversionWarning: A column-vector y was passed when a 1d array was expected. Please change the shape of y to (n_samples, ), for example using ravel().\n",
      "  y = column_or_1d(y, warn=True)\n",
      "e:\\anaconda\\envs\\pytorch\\Lib\\site-packages\\sklearn\\preprocessing\\_label.py:132: DataConversionWarning: A column-vector y was passed when a 1d array was expected. Please change the shape of y to (n_samples, ), for example using ravel().\n",
      "  y = column_or_1d(y, dtype=self.classes_.dtype, warn=True)\n",
      "e:\\anaconda\\envs\\pytorch\\Lib\\site-packages\\sklearn\\preprocessing\\_label.py:132: DataConversionWarning: A column-vector y was passed when a 1d array was expected. Please change the shape of y to (n_samples, ), for example using ravel().\n",
      "  y = column_or_1d(y, dtype=self.classes_.dtype, warn=True)\n"
     ]
    }
   ],
   "source": [
    "from sklearn.preprocessing import LabelEncoder, StandardScaler\n",
    "\n",
    "label_encoder = LabelEncoder()\n",
    "\n",
    "# Fit and transform on training data\n",
    "y_train = label_encoder.fit_transform(y_train)\n",
    "\n",
    "# Use the same label encoder to transform validation and test data\n",
    "y_val = label_encoder.transform(y_val)\n",
    "y_test = label_encoder.transform(y_test)\n"
   ]
  },
  {
   "cell_type": "code",
   "execution_count": 7,
   "metadata": {},
   "outputs": [],
   "source": [
    "import matplotlib.pyplot as plt\n",
    "import pandas as pd \n",
    "from sklearn.model_selection import train_test_split\n",
    "from sklearn.preprocessing import LabelEncoder, StandardScaler\n",
    "from sklearn.metrics import *\n",
    "import seaborn as sns\n",
    "import tensorflow as tf\n",
    "from tensorflow.keras import *\n",
    "from tensorflow.keras.callbacks import *\n",
    "import time"
   ]
  },
  {
   "cell_type": "code",
   "execution_count": 8,
   "metadata": {},
   "outputs": [
    {
     "name": "stdout",
     "output_type": "stream",
     "text": [
      "WARNING:tensorflow:From e:\\anaconda\\envs\\pytorch\\Lib\\site-packages\\keras\\src\\backend.py:873: The name tf.get_default_graph is deprecated. Please use tf.compat.v1.get_default_graph instead.\n",
      "\n",
      "WARNING:tensorflow:From e:\\anaconda\\envs\\pytorch\\Lib\\site-packages\\keras\\src\\backend.py:6642: The name tf.nn.max_pool is deprecated. Please use tf.nn.max_pool2d instead.\n",
      "\n"
     ]
    }
   ],
   "source": [
    "model = models.Sequential()\n",
    "model.add(layers.Conv1D(16, 3, activation='relu', input_shape=(X_train.shape[1:])))\n",
    "model.add(layers.MaxPooling1D(2))\n",
    "model.add(layers.Conv1D(32, 3, activation='relu'))\n",
    "model.add(layers.MaxPooling1D(2))\n",
    "model.add(layers.Conv1D(64, 3, activation='relu'))\n",
    "model.add(layers.MaxPooling1D(2))\n",
    "model.add(layers.Conv1D(128, 3, activation='relu'))\n",
    "model.add(layers.MaxPooling1D(2))\n",
    "model.add(layers.Flatten())\n",
    "model.add(layers.Dense(128, activation='relu'))\n",
    "model.add(layers.Dense(1, activation='sigmoid'))"
   ]
  },
  {
   "cell_type": "code",
   "execution_count": 9,
   "metadata": {},
   "outputs": [
    {
     "name": "stdout",
     "output_type": "stream",
     "text": [
      "Model: \"sequential\"\n",
      "_________________________________________________________________\n",
      " Layer (type)                Output Shape              Param #   \n",
      "=================================================================\n",
      " conv1d (Conv1D)             (None, 1022, 16)          64        \n",
      "                                                                 \n",
      " max_pooling1d (MaxPooling1  (None, 511, 16)           0         \n",
      " D)                                                              \n",
      "                                                                 \n",
      " conv1d_1 (Conv1D)           (None, 509, 32)           1568      \n",
      "                                                                 \n",
      " max_pooling1d_1 (MaxPoolin  (None, 254, 32)           0         \n",
      " g1D)                                                            \n",
      "                                                                 \n",
      " conv1d_2 (Conv1D)           (None, 252, 64)           6208      \n",
      "                                                                 \n",
      " max_pooling1d_2 (MaxPoolin  (None, 126, 64)           0         \n",
      " g1D)                                                            \n",
      "                                                                 \n",
      " conv1d_3 (Conv1D)           (None, 124, 128)          24704     \n",
      "                                                                 \n",
      " max_pooling1d_3 (MaxPoolin  (None, 62, 128)           0         \n",
      " g1D)                                                            \n",
      "                                                                 \n",
      " flatten (Flatten)           (None, 7936)              0         \n",
      "                                                                 \n",
      " dense (Dense)               (None, 128)               1015936   \n",
      "                                                                 \n",
      " dense_1 (Dense)             (None, 1)                 129       \n",
      "                                                                 \n",
      "=================================================================\n",
      "Total params: 1048609 (4.00 MB)\n",
      "Trainable params: 1048609 (4.00 MB)\n",
      "Non-trainable params: 0 (0.00 Byte)\n",
      "_________________________________________________________________\n"
     ]
    }
   ],
   "source": [
    "model.compile(optimizer=tf.keras.optimizers.Adam(learning_rate=0.00001),\n",
    "              loss='binary_crossentropy',\n",
    "              metrics=['accuracy'])\n",
    "model.summary()\n"
   ]
  },
  {
   "cell_type": "code",
   "execution_count": 10,
   "metadata": {},
   "outputs": [],
   "source": [
    "earlystopper = EarlyStopping(\n",
    "    monitor='val_loss',\n",
    "    patience=20,\n",
    "    restore_best_weights=True\n",
    ")"
   ]
  },
  {
   "cell_type": "code",
   "execution_count": 11,
   "metadata": {},
   "outputs": [
    {
     "name": "stdout",
     "output_type": "stream",
     "text": [
      "Epoch 1/100\n"
     ]
    },
    {
     "name": "stdout",
     "output_type": "stream",
     "text": [
      "WARNING:tensorflow:From e:\\anaconda\\envs\\pytorch\\Lib\\site-packages\\keras\\src\\utils\\tf_utils.py:492: The name tf.ragged.RaggedTensorValue is deprecated. Please use tf.compat.v1.ragged.RaggedTensorValue instead.\n",
      "\n",
      "WARNING:tensorflow:From e:\\anaconda\\envs\\pytorch\\Lib\\site-packages\\keras\\src\\engine\\base_layer_utils.py:384: The name tf.executing_eagerly_outside_functions is deprecated. Please use tf.compat.v1.executing_eagerly_outside_functions instead.\n",
      "\n",
      "366/366 [==============================] - 13s 32ms/step - loss: 0.6539 - accuracy: 0.6527 - val_loss: 0.5542 - val_accuracy: 0.6559\n",
      "Epoch 2/100\n",
      "366/366 [==============================] - 10s 28ms/step - loss: 0.5174 - accuracy: 0.7203 - val_loss: 0.4252 - val_accuracy: 0.8023\n",
      "Epoch 3/100\n",
      "366/366 [==============================] - 10s 28ms/step - loss: 0.3271 - accuracy: 0.9262 - val_loss: 0.3007 - val_accuracy: 0.9635\n",
      "Epoch 4/100\n",
      "366/366 [==============================] - 11s 29ms/step - loss: 0.1382 - accuracy: 0.9996 - val_loss: 0.2368 - val_accuracy: 0.9697\n",
      "Epoch 5/100\n",
      "366/366 [==============================] - 10s 28ms/step - loss: 0.0504 - accuracy: 0.9997 - val_loss: 0.1931 - val_accuracy: 0.9743\n",
      "Epoch 6/100\n",
      "366/366 [==============================] - 11s 29ms/step - loss: 0.0220 - accuracy: 1.0000 - val_loss: 0.1756 - val_accuracy: 0.9697\n",
      "Epoch 7/100\n",
      "366/366 [==============================] - 10s 29ms/step - loss: 0.0114 - accuracy: 1.0000 - val_loss: 0.1802 - val_accuracy: 0.9640\n",
      "Epoch 8/100\n",
      "366/366 [==============================] - 11s 29ms/step - loss: 0.0067 - accuracy: 1.0000 - val_loss: 0.1677 - val_accuracy: 0.9619\n",
      "Epoch 9/100\n",
      "366/366 [==============================] - 11s 29ms/step - loss: 0.0043 - accuracy: 1.0000 - val_loss: 0.1799 - val_accuracy: 0.9606\n",
      "Epoch 10/100\n",
      "366/366 [==============================] - 11s 29ms/step - loss: 0.0029 - accuracy: 1.0000 - val_loss: 0.1753 - val_accuracy: 0.9575\n",
      "Epoch 11/100\n",
      "366/366 [==============================] - 11s 29ms/step - loss: 0.0021 - accuracy: 1.0000 - val_loss: 0.1857 - val_accuracy: 0.9573\n",
      "Epoch 12/100\n",
      "366/366 [==============================] - 11s 29ms/step - loss: 0.0015 - accuracy: 1.0000 - val_loss: 0.1839 - val_accuracy: 0.9543\n",
      "Epoch 13/100\n",
      "366/366 [==============================] - 11s 29ms/step - loss: 0.0011 - accuracy: 1.0000 - val_loss: 0.1838 - val_accuracy: 0.9523\n",
      "Epoch 14/100\n",
      "366/366 [==============================] - 11s 29ms/step - loss: 8.8063e-04 - accuracy: 1.0000 - val_loss: 0.1865 - val_accuracy: 0.9500\n",
      "Epoch 15/100\n",
      "366/366 [==============================] - 11s 30ms/step - loss: 6.9722e-04 - accuracy: 1.0000 - val_loss: 0.1931 - val_accuracy: 0.9512\n",
      "Epoch 16/100\n",
      "366/366 [==============================] - 11s 29ms/step - loss: 5.5990e-04 - accuracy: 1.0000 - val_loss: 0.1952 - val_accuracy: 0.9440\n",
      "Epoch 17/100\n",
      "366/366 [==============================] - 11s 29ms/step - loss: 4.5928e-04 - accuracy: 1.0000 - val_loss: 0.2073 - val_accuracy: 0.9461\n",
      "Epoch 18/100\n",
      "366/366 [==============================] - 11s 30ms/step - loss: 3.8188e-04 - accuracy: 1.0000 - val_loss: 0.2115 - val_accuracy: 0.9452\n",
      "Epoch 19/100\n",
      "366/366 [==============================] - 11s 29ms/step - loss: 3.2473e-04 - accuracy: 1.0000 - val_loss: 0.2172 - val_accuracy: 0.9406\n",
      "Epoch 20/100\n",
      "366/366 [==============================] - 11s 30ms/step - loss: 2.7918e-04 - accuracy: 1.0000 - val_loss: 0.2256 - val_accuracy: 0.9406\n",
      "Epoch 21/100\n",
      "366/366 [==============================] - 12s 32ms/step - loss: 2.4132e-04 - accuracy: 1.0000 - val_loss: 0.2269 - val_accuracy: 0.9371\n",
      "Epoch 22/100\n",
      "366/366 [==============================] - 12s 32ms/step - loss: 2.1607e-04 - accuracy: 1.0000 - val_loss: 0.2366 - val_accuracy: 0.9369\n",
      "Epoch 23/100\n",
      "366/366 [==============================] - 12s 32ms/step - loss: 1.9036e-04 - accuracy: 1.0000 - val_loss: 0.2417 - val_accuracy: 0.9344\n",
      "Epoch 24/100\n",
      "366/366 [==============================] - 12s 33ms/step - loss: 1.7103e-04 - accuracy: 1.0000 - val_loss: 0.2455 - val_accuracy: 0.9337\n",
      "Epoch 25/100\n",
      "366/366 [==============================] - 12s 32ms/step - loss: 1.5167e-04 - accuracy: 1.0000 - val_loss: 0.2601 - val_accuracy: 0.9319\n",
      "Epoch 26/100\n",
      "366/366 [==============================] - 12s 32ms/step - loss: 1.3626e-04 - accuracy: 1.0000 - val_loss: 0.2565 - val_accuracy: 0.9335\n",
      "Epoch 27/100\n",
      "366/366 [==============================] - 12s 33ms/step - loss: 1.1984e-04 - accuracy: 1.0000 - val_loss: 0.2643 - val_accuracy: 0.9388\n",
      "Epoch 28/100\n",
      "366/366 [==============================] - 12s 32ms/step - loss: 1.1789e-04 - accuracy: 1.0000 - val_loss: 0.2645 - val_accuracy: 0.9305\n",
      "Training completed in 311 seconds.\n"
     ]
    }
   ],
   "source": [
    "epochs = 100\n",
    "batch_size = 64\n",
    "current_time = int(time.time())\n",
    "stop_training_callback = earlystopper\n",
    "history = model.fit(X_train, y_train, \n",
    "                    epochs=epochs, \n",
    "                    batch_size=batch_size,\n",
    "                    validation_data=(X_val, y_val), \n",
    "                    callbacks=[stop_training_callback])\n",
    "print(\"Training completed in {} seconds.\".format(int(time.time()-current_time)))"
   ]
  },
  {
   "cell_type": "code",
   "execution_count": 12,
   "metadata": {},
   "outputs": [
    {
     "data": {
      "image/png": "[encoded data removed]",
      "text/plain": [
       "<Figure size 640x480 with 1 Axes>"
      ]
     },
     "metadata": {},
     "output_type": "display_data"
    }
   ],
   "source": [
    "plt.plot(history.history['loss'], label='Train Loss')\n",
    "# Plot validation loss\n",
    "plt.plot(history.history['val_loss'], label='Validation Loss')\n",
    "\n",
    "plt.title('Training and Validation Loss')\n",
    "plt.xlabel('Epoch')\n",
    "plt.ylabel('Loss')\n",
    "plt.legend()\n",
    "\n",
    "# Save the plot\n",
    "plt.savefig('training_loss 1D_CNN (80 MFCCs Features_plot.png')\n",
    "plt.show()"
   ]
  },
  {
   "cell_type": "code",
   "execution_count": 13,
   "metadata": {},
   "outputs": [
    {
     "name": "stdout",
     "output_type": "stream",
     "text": [
      "731/731 [==============================] - 3s 5ms/step - loss: 0.0053 - accuracy: 1.0000\n",
      "Training Loss: 0.005279099568724632\n",
      "Training Accuracy: 0.999957263469696\n",
      "177/177 [==============================] - 1s 5ms/step - loss: 0.1677 - accuracy: 0.9619\n",
      "Validation Loss: 0.16773849725723267\n",
      "Validation Accuracy: 0.9618861675262451\n",
      "400/400 [==============================] - 2s 5ms/step - loss: 1.3013 - accuracy: 0.9016\n",
      "Test Loss: 1.3012622594833374\n",
      "Test Accuracy: 0.9015892744064331\n"
     ]
    }
   ],
   "source": [
    "train_loss, train_accuracy = model.evaluate(X_train, y_train)\n",
    "print(f\"Training Loss: {train_loss}\")\n",
    "print(f\"Training Accuracy: {train_accuracy}\")\n",
    "\n",
    "val_loss, val_accuracy = model.evaluate(X_val, y_val)\n",
    "print(f\"Validation Loss: {val_loss}\")\n",
    "print(f\"Validation Accuracy: {val_accuracy}\")\n",
    "\n",
    "test_loss, test_accuracy = model.evaluate(X_test, y_test)\n",
    "print(f\"Test Loss: {test_loss}\")\n",
    "print(f\"Test Accuracy: {test_accuracy}\")"
   ]
  },
  {
   "cell_type": "code",
   "execution_count": 14,
   "metadata": {},
   "outputs": [
    {
     "name": "stdout",
     "output_type": "stream",
     "text": [
      "400/400 [==============================] - 2s 5ms/step\n"
     ]
    },
    {
     "data": {
      "image/png": "[encoded data removed]",
      "text/plain": [
       "<Figure size 800x600 with 2 Axes>"
      ]
     },
     "metadata": {},
     "output_type": "display_data"
    }
   ],
   "source": [
    "from sklearn.metrics import confusion_matrix\n",
    "import seaborn as sns\n",
    "import matplotlib.pyplot as plt\n",
    "\n",
    "# Predict on the test set\n",
    "y_pred = model.predict(X_test)\n",
    "y_pred_classes = (y_pred > 0.5).astype(int)  # Assuming a threshold of 0.5 for binary classification\n",
    "\n",
    "# Compute confusion matrix\n",
    "conf_matrix = confusion_matrix(y_test, y_pred_classes)\n",
    "\n",
    "# Plot the confusion matrix\n",
    "plt.figure(figsize=(8, 6))\n",
    "sns.heatmap(conf_matrix, annot=True, fmt='d', cmap='Blues', \n",
    "            xticklabels=['Non-Swarming', 'Swarming'], \n",
    "            yticklabels=['Non-Swarming', 'Swarming'])\n",
    "plt.title('Confusion Matrix')\n",
    "plt.xlabel('Predicted')\n",
    "plt.ylabel('True')\n",
    "plt.savefig('Confusion Matrix 1D_CNN ( 80 MFCCs Features ).png')\n",
    "plt.show()"
   ]
  }
 ],
 "metadata": {
  "kernelspec": {
   "display_name": "base",
   "language": "python",
   "name": "python3"
  },
  "language_info": {
   "codemirror_mode": {
    "name": "ipython",
    "version": 3
   },
   "file_extension": ".py",
   "mimetype": "text/x-python",
   "name": "python",
   "nbconvert_exporter": "python",
   "pygments_lexer": "ipython3",
   "version": "3.11.7"
  }
 },
 "nbformat": 4,
 "nbformat_minor": 2
}
