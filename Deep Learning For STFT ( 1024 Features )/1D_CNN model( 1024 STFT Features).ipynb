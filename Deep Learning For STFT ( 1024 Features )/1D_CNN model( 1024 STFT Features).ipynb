{
 "cells": [
  {
   "cell_type": "markdown",
   "metadata": {},
   "source": [
    "# Load data"
   ]
  },
  {
   "cell_type": "code",
   "execution_count": 1,
   "metadata": {},
   "outputs": [
    {
     "name": "stdout",
     "output_type": "stream",
     "text": [
      "WARNING:tensorflow:From e:\\anaconda\\envs\\pytorch\\Lib\\site-packages\\keras\\src\\losses.py:2976: The name tf.losses.sparse_softmax_cross_entropy is deprecated. Please use tf.compat.v1.losses.sparse_softmax_cross_entropy instead.\n",
      "\n"
     ]
    }
   ],
   "source": [
    "import numpy as np\n",
    "import tensorflow as tf\n",
    "from tensorflow.keras import layers, models\n",
    "from sklearn.model_selection import train_test_split\n",
    "import os\n",
    "import pandas as pd\n",
    "STFT_folder = \"D:\\Swarming Project buzz 2\\Features Extracted Data\\STFT_Features\"\n",
    "\n",
    "Noneswarming_train = np.load(os.path.join(STFT_folder, 'Train', 'Noneswarming_train.npy'))\n",
    "Swarming_train = np.load(os.path.join(STFT_folder, 'Train', 'Swarming_train.npy'))\n",
    "\n",
    "Noneswarming_test = np.load(os.path.join(STFT_folder, 'Test', 'Noneswarming_test.npy'))\n",
    "Swarming_test = np.load(os.path.join(STFT_folder, 'Test', 'Swarming_test.npy'))\n",
    "\n",
    "Noneswarming_val = np.load(os.path.join(STFT_folder, 'Val', 'Noneswarming_val.npy'))\n",
    "Swarming_val = np.load(os.path.join(STFT_folder, 'Val', 'Swarming_val.npy'))"
   ]
  },
  {
   "cell_type": "code",
   "execution_count": 2,
   "metadata": {},
   "outputs": [],
   "source": [
    "# Concatenate the data and create labels\n",
    "X_train = np.concatenate([Noneswarming_train, Swarming_train], axis=0)\n",
    "y_train = np.concatenate([np.zeros(Noneswarming_train.shape[0]), np.ones(Swarming_train.shape[0])])\n",
    "\n",
    "X_test = np.concatenate([Noneswarming_test, Swarming_test], axis=0)\n",
    "y_test = np.concatenate([np.zeros(Noneswarming_test.shape[0]), np.ones(Swarming_test.shape[0])])\n",
    "\n",
    "X_val = np.concatenate([Noneswarming_val, Swarming_val], axis=0)\n",
    "y_val = np.concatenate([np.zeros(Noneswarming_val.shape[0]), np.ones(Swarming_val.shape[0])])"
   ]
  },
  {
   "cell_type": "code",
   "execution_count": 3,
   "metadata": {},
   "outputs": [
    {
     "name": "stdout",
     "output_type": "stream",
     "text": [
      "Shape of X_train: (24732, 1024)\n",
      "Shape of X_val: (4249, 1024)\n",
      "Shape of X_test: (11575, 1024)\n"
     ]
    }
   ],
   "source": [
    "print(\"Shape of X_train: {}\".format(X_train.shape))\n",
    "print(\"Shape of X_val: {}\".format(X_val.shape))\n",
    "print(\"Shape of X_test: {}\".format(X_test.shape))\n"
   ]
  },
  {
   "cell_type": "code",
   "execution_count": 4,
   "metadata": {},
   "outputs": [
    {
     "name": "stdout",
     "output_type": "stream",
     "text": [
      "Shape of X_train: (24732, 1024, 1)\n",
      "Shape of X_val: (4249, 1024, 1)\n",
      "Shape of X_test: (11575, 1024, 1)\n"
     ]
    }
   ],
   "source": [
    "# Reshape the input data\n",
    "X_train = X_train.reshape( (X_train.shape[0], X_train.shape[1], 1) )\n",
    "X_val = X_val.reshape( (X_val.shape[0], X_val.shape[1], 1) )\n",
    "X_test = X_test.reshape( (X_test.shape[0], X_test.shape[1], 1) )\n",
    "y_train = y_train.reshape( (y_train.shape[0], 1) )\n",
    "y_val = y_val.reshape( (y_val.shape[0], 1) )\n",
    "y_test = y_test.reshape( (y_test.shape[0], 1) )\n",
    "\n",
    "print(\"Shape of X_train: {}\".format(X_train.shape))\n",
    "print(\"Shape of X_val: {}\".format(X_val.shape))\n",
    "print(\"Shape of X_test: {}\".format(X_test.shape))\n"
   ]
  },
  {
   "cell_type": "code",
   "execution_count": 5,
   "metadata": {},
   "outputs": [],
   "source": [
    "# Shuffle the data\n",
    "shuffle_train = np.random.permutation(len(X_train))\n",
    "X_train, y_train = X_train[shuffle_train], y_train[shuffle_train]\n",
    "\n",
    "shuffle_test = np.random.permutation(len(X_test))\n",
    "X_test, y_test = X_test[shuffle_test], y_test[shuffle_test]\n",
    "\n",
    "shuffle_val = np.random.permutation(len(X_val))\n",
    "X_val, y_val = X_val[shuffle_val], y_val[shuffle_val]"
   ]
  },
  {
   "cell_type": "code",
   "execution_count": 6,
   "metadata": {},
   "outputs": [
    {
     "name": "stderr",
     "output_type": "stream",
     "text": [
      "e:\\anaconda\\envs\\pytorch\\Lib\\site-packages\\sklearn\\preprocessing\\_label.py:114: DataConversionWarning: A column-vector y was passed when a 1d array was expected. Please change the shape of y to (n_samples, ), for example using ravel().\n",
      "  y = column_or_1d(y, warn=True)\n",
      "e:\\anaconda\\envs\\pytorch\\Lib\\site-packages\\sklearn\\preprocessing\\_label.py:132: DataConversionWarning: A column-vector y was passed when a 1d array was expected. Please change the shape of y to (n_samples, ), for example using ravel().\n",
      "  y = column_or_1d(y, dtype=self.classes_.dtype, warn=True)\n",
      "e:\\anaconda\\envs\\pytorch\\Lib\\site-packages\\sklearn\\preprocessing\\_label.py:132: DataConversionWarning: A column-vector y was passed when a 1d array was expected. Please change the shape of y to (n_samples, ), for example using ravel().\n",
      "  y = column_or_1d(y, dtype=self.classes_.dtype, warn=True)\n"
     ]
    }
   ],
   "source": [
    "from sklearn.preprocessing import LabelEncoder, StandardScaler\n",
    "\n",
    "label_encoder = LabelEncoder()\n",
    "\n",
    "# Fit and transform on training data\n",
    "y_train = label_encoder.fit_transform(y_train)\n",
    "\n",
    "# Use the same label encoder to transform validation and test data\n",
    "y_val = label_encoder.transform(y_val)\n",
    "y_test = label_encoder.transform(y_test)\n"
   ]
  },
  {
   "cell_type": "code",
   "execution_count": 7,
   "metadata": {},
   "outputs": [],
   "source": [
    "import matplotlib.pyplot as plt\n",
    "import pandas as pd \n",
    "from sklearn.model_selection import train_test_split\n",
    "from sklearn.preprocessing import LabelEncoder, StandardScaler\n",
    "from sklearn.metrics import *\n",
    "import seaborn as sns\n",
    "import tensorflow as tf\n",
    "from tensorflow.keras import *\n",
    "from tensorflow.keras.callbacks import *\n",
    "import time"
   ]
  },
  {
   "cell_type": "code",
   "execution_count": 8,
   "metadata": {},
   "outputs": [
    {
     "name": "stdout",
     "output_type": "stream",
     "text": [
      "WARNING:tensorflow:From e:\\anaconda\\envs\\pytorch\\Lib\\site-packages\\keras\\src\\backend.py:873: The name tf.get_default_graph is deprecated. Please use tf.compat.v1.get_default_graph instead.\n",
      "\n",
      "WARNING:tensorflow:From e:\\anaconda\\envs\\pytorch\\Lib\\site-packages\\keras\\src\\backend.py:6642: The name tf.nn.max_pool is deprecated. Please use tf.nn.max_pool2d instead.\n",
      "\n"
     ]
    }
   ],
   "source": [
    "model = models.Sequential()\n",
    "model.add(layers.Conv1D(16, 3, activation='relu', input_shape=(X_train.shape[1:])))\n",
    "model.add(layers.MaxPooling1D(2))\n",
    "model.add(layers.Conv1D(32, 3, activation='relu'))\n",
    "model.add(layers.MaxPooling1D(2))\n",
    "model.add(layers.Conv1D(64, 3, activation='relu'))\n",
    "model.add(layers.MaxPooling1D(2))\n",
    "model.add(layers.Conv1D(128, 3, activation='relu'))\n",
    "model.add(layers.MaxPooling1D(2))\n",
    "model.add(layers.Flatten())\n",
    "model.add(layers.Dense(128, activation='relu'))\n",
    "model.add(layers.Dense(1, activation='sigmoid'))"
   ]
  },
  {
   "cell_type": "code",
   "execution_count": 9,
   "metadata": {},
   "outputs": [
    {
     "name": "stdout",
     "output_type": "stream",
     "text": [
      "Model: \"sequential\"\n",
      "_________________________________________________________________\n",
      " Layer (type)                Output Shape              Param #   \n",
      "=================================================================\n",
      " conv1d (Conv1D)             (None, 1022, 16)          64        \n",
      "                                                                 \n",
      " max_pooling1d (MaxPooling1  (None, 511, 16)           0         \n",
      " D)                                                              \n",
      "                                                                 \n",
      " conv1d_1 (Conv1D)           (None, 509, 32)           1568      \n",
      "                                                                 \n",
      " max_pooling1d_1 (MaxPoolin  (None, 254, 32)           0         \n",
      " g1D)                                                            \n",
      "                                                                 \n",
      " conv1d_2 (Conv1D)           (None, 252, 64)           6208      \n",
      "                                                                 \n",
      " max_pooling1d_2 (MaxPoolin  (None, 126, 64)           0         \n",
      " g1D)                                                            \n",
      "                                                                 \n",
      " conv1d_3 (Conv1D)           (None, 124, 128)          24704     \n",
      "                                                                 \n",
      " max_pooling1d_3 (MaxPoolin  (None, 62, 128)           0         \n",
      " g1D)                                                            \n",
      "                                                                 \n",
      " flatten (Flatten)           (None, 7936)              0         \n",
      "                                                                 \n",
      " dense (Dense)               (None, 128)               1015936   \n",
      "                                                                 \n",
      " dense_1 (Dense)             (None, 1)                 129       \n",
      "                                                                 \n",
      "=================================================================\n",
      "Total params: 1048609 (4.00 MB)\n",
      "Trainable params: 1048609 (4.00 MB)\n",
      "Non-trainable params: 0 (0.00 Byte)\n",
      "_________________________________________________________________\n"
     ]
    }
   ],
   "source": [
    "model.compile(optimizer=tf.keras.optimizers.Adam(learning_rate=0.00001),\n",
    "              loss='binary_crossentropy',\n",
    "              metrics=['accuracy'])\n",
    "model.summary()\n"
   ]
  },
  {
   "cell_type": "code",
   "execution_count": 10,
   "metadata": {},
   "outputs": [],
   "source": [
    "earlystopper = EarlyStopping(\n",
    "    monitor='val_loss',\n",
    "    patience=7,\n",
    "    restore_best_weights=True\n",
    ")"
   ]
  },
  {
   "cell_type": "code",
   "execution_count": 11,
   "metadata": {},
   "outputs": [
    {
     "name": "stdout",
     "output_type": "stream",
     "text": [
      "Epoch 1/100\n"
     ]
    },
    {
     "name": "stdout",
     "output_type": "stream",
     "text": [
      "WARNING:tensorflow:From e:\\anaconda\\envs\\pytorch\\Lib\\site-packages\\keras\\src\\utils\\tf_utils.py:492: The name tf.ragged.RaggedTensorValue is deprecated. Please use tf.compat.v1.ragged.RaggedTensorValue instead.\n",
      "\n",
      "WARNING:tensorflow:From e:\\anaconda\\envs\\pytorch\\Lib\\site-packages\\keras\\src\\engine\\base_layer_utils.py:384: The name tf.executing_eagerly_outside_functions is deprecated. Please use tf.compat.v1.executing_eagerly_outside_functions instead.\n",
      "\n",
      "387/387 [==============================] - 15s 34ms/step - loss: 0.6289 - accuracy: 0.5964 - val_loss: 0.4943 - val_accuracy: 0.8044\n",
      "Epoch 2/100\n",
      "387/387 [==============================] - 13s 33ms/step - loss: 0.4975 - accuracy: 0.7633 - val_loss: 0.3871 - val_accuracy: 0.7990\n",
      "Epoch 3/100\n",
      "387/387 [==============================] - 13s 34ms/step - loss: 0.4215 - accuracy: 0.7724 - val_loss: 0.3104 - val_accuracy: 0.8414\n",
      "Epoch 4/100\n",
      "387/387 [==============================] - 13s 35ms/step - loss: 0.3506 - accuracy: 0.8053 - val_loss: 0.2318 - val_accuracy: 0.9984\n",
      "Epoch 5/100\n",
      "387/387 [==============================] - 13s 33ms/step - loss: 0.2732 - accuracy: 0.9725 - val_loss: 0.1599 - val_accuracy: 0.9993\n",
      "Epoch 6/100\n",
      "387/387 [==============================] - 13s 33ms/step - loss: 0.1956 - accuracy: 0.9845 - val_loss: 0.0935 - val_accuracy: 0.9993\n",
      "Epoch 7/100\n",
      "387/387 [==============================] - 13s 32ms/step - loss: 0.1298 - accuracy: 0.9907 - val_loss: 0.0484 - val_accuracy: 0.9995\n",
      "Epoch 8/100\n",
      "387/387 [==============================] - 13s 33ms/step - loss: 0.0823 - accuracy: 0.9944 - val_loss: 0.0275 - val_accuracy: 1.0000\n",
      "Epoch 9/100\n",
      "387/387 [==============================] - 13s 33ms/step - loss: 0.0524 - accuracy: 0.9962 - val_loss: 0.0201 - val_accuracy: 1.0000\n",
      "Epoch 10/100\n",
      "387/387 [==============================] - 13s 33ms/step - loss: 0.0349 - accuracy: 0.9976 - val_loss: 0.0122 - val_accuracy: 1.0000\n",
      "Epoch 11/100\n",
      "387/387 [==============================] - 13s 33ms/step - loss: 0.0245 - accuracy: 0.9982 - val_loss: 0.0072 - val_accuracy: 0.9998\n",
      "Epoch 12/100\n",
      "387/387 [==============================] - 13s 33ms/step - loss: 0.0180 - accuracy: 0.9983 - val_loss: 0.0055 - val_accuracy: 0.9998\n",
      "Epoch 13/100\n",
      "387/387 [==============================] - 13s 34ms/step - loss: 0.0140 - accuracy: 0.9989 - val_loss: 0.0052 - val_accuracy: 0.9998\n",
      "Epoch 14/100\n",
      "387/387 [==============================] - 13s 33ms/step - loss: 0.0111 - accuracy: 0.9990 - val_loss: 0.0047 - val_accuracy: 1.0000\n",
      "Epoch 15/100\n",
      "387/387 [==============================] - 13s 33ms/step - loss: 0.0089 - accuracy: 0.9991 - val_loss: 0.0030 - val_accuracy: 0.9998\n",
      "Epoch 16/100\n",
      "387/387 [==============================] - 13s 33ms/step - loss: 0.0074 - accuracy: 0.9993 - val_loss: 0.0035 - val_accuracy: 1.0000\n",
      "Epoch 17/100\n",
      "387/387 [==============================] - 13s 33ms/step - loss: 0.0062 - accuracy: 0.9992 - val_loss: 0.0025 - val_accuracy: 1.0000\n",
      "Epoch 18/100\n",
      "387/387 [==============================] - 13s 33ms/step - loss: 0.0053 - accuracy: 0.9994 - val_loss: 0.0032 - val_accuracy: 0.9993\n",
      "Epoch 19/100\n",
      "387/387 [==============================] - 13s 33ms/step - loss: 0.0048 - accuracy: 0.9993 - val_loss: 0.0021 - val_accuracy: 1.0000\n",
      "Epoch 20/100\n",
      "387/387 [==============================] - 13s 32ms/step - loss: 0.0041 - accuracy: 0.9995 - val_loss: 9.4988e-04 - val_accuracy: 0.9998\n",
      "Epoch 21/100\n",
      "387/387 [==============================] - 13s 33ms/step - loss: 0.0035 - accuracy: 0.9995 - val_loss: 0.0011 - val_accuracy: 0.9998\n",
      "Epoch 22/100\n",
      "387/387 [==============================] - 13s 33ms/step - loss: 0.0030 - accuracy: 0.9996 - val_loss: 0.0010 - val_accuracy: 0.9998\n",
      "Epoch 23/100\n",
      "387/387 [==============================] - 13s 33ms/step - loss: 0.0027 - accuracy: 0.9996 - val_loss: 0.0012 - val_accuracy: 1.0000\n",
      "Epoch 24/100\n",
      "387/387 [==============================] - 13s 33ms/step - loss: 0.0024 - accuracy: 0.9996 - val_loss: 8.0244e-04 - val_accuracy: 0.9998\n",
      "Epoch 25/100\n",
      "387/387 [==============================] - 12s 32ms/step - loss: 0.0024 - accuracy: 0.9996 - val_loss: 6.4697e-04 - val_accuracy: 1.0000\n",
      "Epoch 26/100\n",
      "387/387 [==============================] - 13s 33ms/step - loss: 0.0019 - accuracy: 0.9997 - val_loss: 5.9496e-04 - val_accuracy: 0.9998\n",
      "Epoch 27/100\n",
      "387/387 [==============================] - 13s 33ms/step - loss: 0.0017 - accuracy: 0.9997 - val_loss: 5.0386e-04 - val_accuracy: 1.0000\n",
      "Epoch 28/100\n",
      "387/387 [==============================] - 12s 32ms/step - loss: 0.0016 - accuracy: 0.9996 - val_loss: 2.9539e-04 - val_accuracy: 1.0000\n",
      "Epoch 29/100\n",
      "387/387 [==============================] - 13s 33ms/step - loss: 0.0016 - accuracy: 0.9998 - val_loss: 4.0349e-04 - val_accuracy: 1.0000\n",
      "Epoch 30/100\n",
      "387/387 [==============================] - 12s 32ms/step - loss: 0.0012 - accuracy: 0.9999 - val_loss: 4.9183e-04 - val_accuracy: 1.0000\n",
      "Epoch 31/100\n",
      "387/387 [==============================] - 13s 33ms/step - loss: 0.0013 - accuracy: 0.9998 - val_loss: 2.2380e-04 - val_accuracy: 1.0000\n",
      "Epoch 32/100\n",
      "387/387 [==============================] - 13s 33ms/step - loss: 8.9200e-04 - accuracy: 0.9999 - val_loss: 2.1946e-04 - val_accuracy: 1.0000\n",
      "Epoch 33/100\n",
      "387/387 [==============================] - 13s 34ms/step - loss: 0.0010 - accuracy: 0.9998 - val_loss: 5.2719e-04 - val_accuracy: 1.0000\n",
      "Epoch 34/100\n",
      "387/387 [==============================] - 13s 33ms/step - loss: 8.8021e-04 - accuracy: 0.9998 - val_loss: 4.2601e-04 - val_accuracy: 1.0000\n",
      "Epoch 35/100\n",
      "387/387 [==============================] - 13s 33ms/step - loss: 8.9119e-04 - accuracy: 0.9998 - val_loss: 1.1811e-04 - val_accuracy: 1.0000\n",
      "Epoch 36/100\n",
      "387/387 [==============================] - 12s 32ms/step - loss: 6.1910e-04 - accuracy: 1.0000 - val_loss: 1.5688e-04 - val_accuracy: 1.0000\n",
      "Epoch 37/100\n",
      "387/387 [==============================] - 13s 33ms/step - loss: 6.2739e-04 - accuracy: 0.9999 - val_loss: 1.4508e-04 - val_accuracy: 1.0000\n",
      "Epoch 38/100\n",
      "387/387 [==============================] - 13s 34ms/step - loss: 5.6398e-04 - accuracy: 1.0000 - val_loss: 1.5184e-04 - val_accuracy: 1.0000\n",
      "Epoch 39/100\n",
      "387/387 [==============================] - 13s 33ms/step - loss: 5.0425e-04 - accuracy: 1.0000 - val_loss: 1.7033e-04 - val_accuracy: 1.0000\n",
      "Epoch 40/100\n",
      "387/387 [==============================] - 13s 32ms/step - loss: 7.0848e-04 - accuracy: 0.9998 - val_loss: 8.6536e-05 - val_accuracy: 1.0000\n",
      "Epoch 41/100\n",
      "387/387 [==============================] - 13s 33ms/step - loss: 4.5157e-04 - accuracy: 1.0000 - val_loss: 6.3427e-04 - val_accuracy: 1.0000\n",
      "Epoch 42/100\n",
      "387/387 [==============================] - 13s 33ms/step - loss: 4.4324e-04 - accuracy: 1.0000 - val_loss: 1.3565e-04 - val_accuracy: 1.0000\n",
      "Epoch 43/100\n",
      "387/387 [==============================] - 13s 34ms/step - loss: 4.5325e-04 - accuracy: 0.9999 - val_loss: 7.7009e-05 - val_accuracy: 1.0000\n",
      "Epoch 44/100\n",
      "387/387 [==============================] - 13s 33ms/step - loss: 3.3191e-04 - accuracy: 1.0000 - val_loss: 1.3666e-04 - val_accuracy: 1.0000\n",
      "Epoch 45/100\n",
      "387/387 [==============================] - 13s 32ms/step - loss: 9.7903e-04 - accuracy: 0.9998 - val_loss: 9.6755e-05 - val_accuracy: 1.0000\n",
      "Epoch 46/100\n",
      "387/387 [==============================] - 13s 33ms/step - loss: 2.9223e-04 - accuracy: 1.0000 - val_loss: 8.7488e-05 - val_accuracy: 1.0000\n",
      "Epoch 47/100\n",
      "387/387 [==============================] - 13s 32ms/step - loss: 2.5453e-04 - accuracy: 1.0000 - val_loss: 6.8623e-05 - val_accuracy: 1.0000\n",
      "Epoch 48/100\n",
      "387/387 [==============================] - 13s 32ms/step - loss: 6.5446e-04 - accuracy: 0.9999 - val_loss: 4.4769e-05 - val_accuracy: 1.0000\n",
      "Epoch 49/100\n",
      "387/387 [==============================] - 12s 32ms/step - loss: 2.3605e-04 - accuracy: 1.0000 - val_loss: 9.5770e-05 - val_accuracy: 1.0000\n",
      "Epoch 50/100\n",
      "387/387 [==============================] - 13s 32ms/step - loss: 2.0372e-04 - accuracy: 1.0000 - val_loss: 8.2823e-05 - val_accuracy: 1.0000\n",
      "Epoch 51/100\n",
      "387/387 [==============================] - 13s 33ms/step - loss: 1.9419e-04 - accuracy: 1.0000 - val_loss: 9.0655e-05 - val_accuracy: 1.0000\n",
      "Epoch 52/100\n",
      "387/387 [==============================] - 13s 33ms/step - loss: 2.0991e-04 - accuracy: 1.0000 - val_loss: 5.0454e-05 - val_accuracy: 1.0000\n",
      "Epoch 53/100\n",
      "387/387 [==============================] - 13s 33ms/step - loss: 4.6864e-04 - accuracy: 0.9999 - val_loss: 4.6251e-05 - val_accuracy: 1.0000\n",
      "Epoch 54/100\n",
      "387/387 [==============================] - 13s 33ms/step - loss: 1.7001e-04 - accuracy: 1.0000 - val_loss: 3.2942e-05 - val_accuracy: 1.0000\n",
      "Epoch 55/100\n",
      "387/387 [==============================] - 13s 33ms/step - loss: 1.6388e-04 - accuracy: 1.0000 - val_loss: 8.5858e-05 - val_accuracy: 1.0000\n",
      "Epoch 56/100\n",
      "387/387 [==============================] - 13s 34ms/step - loss: 1.4532e-04 - accuracy: 1.0000 - val_loss: 5.6445e-05 - val_accuracy: 1.0000\n",
      "Epoch 57/100\n",
      "387/387 [==============================] - 13s 33ms/step - loss: 1.4667e-04 - accuracy: 1.0000 - val_loss: 1.4333e-04 - val_accuracy: 1.0000\n",
      "Epoch 58/100\n",
      "387/387 [==============================] - 13s 33ms/step - loss: 1.8360e-04 - accuracy: 1.0000 - val_loss: 4.6560e-05 - val_accuracy: 1.0000\n",
      "Epoch 59/100\n",
      "387/387 [==============================] - 13s 33ms/step - loss: 1.2895e-04 - accuracy: 1.0000 - val_loss: 4.4902e-05 - val_accuracy: 1.0000\n",
      "Epoch 60/100\n",
      "387/387 [==============================] - 13s 34ms/step - loss: 1.0981e-04 - accuracy: 1.0000 - val_loss: 2.9008e-05 - val_accuracy: 1.0000\n",
      "Epoch 61/100\n",
      "387/387 [==============================] - 13s 33ms/step - loss: 1.0499e-04 - accuracy: 1.0000 - val_loss: 4.7051e-05 - val_accuracy: 1.0000\n",
      "Epoch 62/100\n",
      "387/387 [==============================] - 13s 33ms/step - loss: 1.2428e-04 - accuracy: 1.0000 - val_loss: 5.4111e-05 - val_accuracy: 1.0000\n",
      "Epoch 63/100\n",
      "387/387 [==============================] - 13s 33ms/step - loss: 6.4665e-04 - accuracy: 0.9999 - val_loss: 2.5624e-05 - val_accuracy: 1.0000\n",
      "Epoch 64/100\n",
      "387/387 [==============================] - 13s 34ms/step - loss: 9.7894e-05 - accuracy: 1.0000 - val_loss: 5.2034e-05 - val_accuracy: 1.0000\n",
      "Epoch 65/100\n",
      "387/387 [==============================] - 13s 33ms/step - loss: 8.8761e-05 - accuracy: 1.0000 - val_loss: 4.6961e-05 - val_accuracy: 1.0000\n",
      "Epoch 66/100\n",
      "387/387 [==============================] - 11s 28ms/step - loss: 8.2939e-05 - accuracy: 1.0000 - val_loss: 3.0235e-05 - val_accuracy: 1.0000\n",
      "Epoch 67/100\n",
      "387/387 [==============================] - 21s 55ms/step - loss: 8.2065e-05 - accuracy: 1.0000 - val_loss: 6.1070e-05 - val_accuracy: 1.0000\n",
      "Epoch 68/100\n",
      "387/387 [==============================] - 15s 39ms/step - loss: 7.4298e-05 - accuracy: 1.0000 - val_loss: 1.6988e-05 - val_accuracy: 1.0000\n",
      "Epoch 69/100\n",
      "387/387 [==============================] - 14s 35ms/step - loss: 8.5233e-05 - accuracy: 1.0000 - val_loss: 0.0020 - val_accuracy: 0.9995\n",
      "Epoch 70/100\n",
      "387/387 [==============================] - 14s 36ms/step - loss: 4.9384e-04 - accuracy: 0.9999 - val_loss: 4.9598e-05 - val_accuracy: 1.0000\n",
      "Epoch 71/100\n",
      "387/387 [==============================] - 14s 36ms/step - loss: 7.9960e-05 - accuracy: 1.0000 - val_loss: 8.1628e-05 - val_accuracy: 1.0000\n",
      "Epoch 72/100\n",
      "387/387 [==============================] - 14s 36ms/step - loss: 8.0466e-05 - accuracy: 1.0000 - val_loss: 4.8410e-05 - val_accuracy: 1.0000\n",
      "Epoch 73/100\n",
      "387/387 [==============================] - 14s 36ms/step - loss: 7.4948e-05 - accuracy: 1.0000 - val_loss: 4.7227e-05 - val_accuracy: 1.0000\n",
      "Epoch 74/100\n",
      "387/387 [==============================] - 14s 35ms/step - loss: 6.2065e-05 - accuracy: 1.0000 - val_loss: 4.5748e-05 - val_accuracy: 1.0000\n",
      "Epoch 75/100\n",
      "387/387 [==============================] - 13s 35ms/step - loss: 6.0899e-05 - accuracy: 1.0000 - val_loss: 4.6034e-05 - val_accuracy: 1.0000\n",
      "Training completed in 976 seconds.\n"
     ]
    }
   ],
   "source": [
    "epochs = 100\n",
    "batch_size = 64\n",
    "current_time = int(time.time())\n",
    "stop_training_callback = earlystopper\n",
    "history = model.fit(X_train, y_train, \n",
    "                    epochs=epochs, \n",
    "                    batch_size=batch_size,\n",
    "                    validation_data=(X_val, y_val), \n",
    "                    callbacks=[stop_training_callback])\n",
    "print(\"Training completed in {} seconds.\".format(int(time.time()-current_time)))"
   ]
  },
  {
   "cell_type": "code",
   "execution_count": 12,
   "metadata": {},
   "outputs": [
    {
     "data": {
      "image/png": "[encoded data removed]",
      "text/plain": [
       "<Figure size 640x480 with 1 Axes>"
      ]
     },
     "metadata": {},
     "output_type": "display_data"
    }
   ],
   "source": [
    "plt.plot(history.history['loss'], label='Train Loss')\n",
    "# Plot validation loss\n",
    "plt.plot(history.history['val_loss'], label='Validation Loss')\n",
    "\n",
    "plt.title('Training and Validation Loss')\n",
    "plt.xlabel('Epoch')\n",
    "plt.ylabel('Loss')\n",
    "plt.legend()\n",
    "\n",
    "# Save the plot\n",
    "plt.savefig('training_loss 1D_CNN (80 MFCCs Features_plot.png')\n",
    "plt.show()"
   ]
  },
  {
   "cell_type": "code",
   "execution_count": 13,
   "metadata": {},
   "outputs": [
    {
     "name": "stdout",
     "output_type": "stream",
     "text": [
      "  1/773 [..............................] - ETA: 32s - loss: 6.5102e-05 - accuracy: 1.0000"
     ]
    },
    {
     "name": "stdout",
     "output_type": "stream",
     "text": [
      "773/773 [==============================] - 4s 6ms/step - loss: 1.2504e-04 - accuracy: 1.0000\n",
      "Training Loss: 0.00012503881589509547\n",
      "Training Accuracy: 1.0\n",
      "133/133 [==============================] - 1s 7ms/step - loss: 1.6988e-05 - accuracy: 1.0000\n",
      "Validation Loss: 1.6988418792607263e-05\n",
      "Validation Accuracy: 1.0\n",
      "362/362 [==============================] - 2s 6ms/step - loss: 0.0212 - accuracy: 0.9986\n",
      "Test Loss: 0.021187514066696167\n",
      "Test Accuracy: 0.9986177086830139\n"
     ]
    }
   ],
   "source": [
    "train_loss, train_accuracy = model.evaluate(X_train, y_train)\n",
    "print(f\"Training Loss: {train_loss}\")\n",
    "print(f\"Training Accuracy: {train_accuracy}\")\n",
    "\n",
    "val_loss, val_accuracy = model.evaluate(X_val, y_val)\n",
    "print(f\"Validation Loss: {val_loss}\")\n",
    "print(f\"Validation Accuracy: {val_accuracy}\")\n",
    "\n",
    "test_loss, test_accuracy = model.evaluate(X_test, y_test)\n",
    "print(f\"Test Loss: {test_loss}\")\n",
    "print(f\"Test Accuracy: {test_accuracy}\")"
   ]
  },
  {
   "cell_type": "code",
   "execution_count": 14,
   "metadata": {},
   "outputs": [
    {
     "name": "stdout",
     "output_type": "stream",
     "text": [
      "362/362 [==============================] - 2s 6ms/step\n"
     ]
    },
    {
     "data": {
      "image/png": "[encoded data removed]",
      "text/plain": [
       "<Figure size 800x600 with 2 Axes>"
      ]
     },
     "metadata": {},
     "output_type": "display_data"
    }
   ],
   "source": [
    "from sklearn.metrics import confusion_matrix\n",
    "import seaborn as sns\n",
    "import matplotlib.pyplot as plt\n",
    "\n",
    "# Predict on the test set\n",
    "y_pred = model.predict(X_test)\n",
    "y_pred_classes = (y_pred > 0.5).astype(int)  # Assuming a threshold of 0.5 for binary classification\n",
    "\n",
    "# Compute confusion matrix\n",
    "conf_matrix = confusion_matrix(y_test, y_pred_classes)\n",
    "\n",
    "# Plot the confusion matrix\n",
    "plt.figure(figsize=(8, 6))\n",
    "sns.heatmap(conf_matrix, annot=True, fmt='d', cmap='Blues', \n",
    "            xticklabels=['Non-Swarming', 'Swarming'], \n",
    "            yticklabels=['Non-Swarming', 'Swarming'])\n",
    "plt.title('Confusion Matrix')\n",
    "plt.xlabel('Predicted')\n",
    "plt.ylabel('True')\n",
    "plt.savefig('Confusion Matrix 1D_CNN ( 80 MFCCs Features ).png')\n",
    "plt.show()"
   ]
  }
 ],
 "metadata": {
  "kernelspec": {
   "display_name": "base",
   "language": "python",
   "name": "python3"
  },
  "language_info": {
   "codemirror_mode": {
    "name": "ipython",
    "version": 3
   },
   "file_extension": ".py",
   "mimetype": "text/x-python",
   "name": "python",
   "nbconvert_exporter": "python",
   "pygments_lexer": "ipython3",
   "version": "3.11.7"
  }
 },
 "nbformat": 4,
 "nbformat_minor": 2
}
