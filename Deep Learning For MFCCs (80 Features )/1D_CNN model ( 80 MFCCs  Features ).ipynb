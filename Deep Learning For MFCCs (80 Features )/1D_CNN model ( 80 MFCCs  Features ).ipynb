{
 "cells": [
  {
   "cell_type": "markdown",
   "metadata": {},
   "source": [
    "# Load data"
   ]
  },
  {
   "cell_type": "code",
   "execution_count": 1,
   "metadata": {},
   "outputs": [
    {
     "name": "stderr",
     "output_type": "stream",
     "text": [
      "C:\\Users\\hoang\\AppData\\Local\\Temp\\ipykernel_14952\\761806294.py:3: DeprecationWarning: \n",
      "Pyarrow will become a required dependency of pandas in the next major release of pandas (pandas 3.0),\n",
      "(to allow more performant data types, such as the Arrow string type, and better interoperability with other libraries)\n",
      "but was not found to be installed on your system.\n",
      "If this would cause problems for you,\n",
      "please provide us feedback at https://github.com/pandas-dev/pandas/issues/54466\n",
      "        \n",
      "  import pandas as pd\n"
     ]
    }
   ],
   "source": [
    "import numpy as np\n",
    "import os\n",
    "import pandas as pd\n",
    "mfccs_folder = \"D:\\Swarming Project buzz 2\\Features Extracted Data\\MFCCs_Features\"\n",
    "\n",
    "Noneswarming_train = np.load(os.path.join(mfccs_folder, 'Train', 'Noneswarming_train.npy'))\n",
    "Swarming_train = np.load(os.path.join(mfccs_folder, 'Train', 'Swarming_train.npy'))\n",
    "\n",
    "Noneswarming_test = np.load(os.path.join(mfccs_folder, 'Test', 'Noneswarming_test.npy'))\n",
    "Swarming_test = np.load(os.path.join(mfccs_folder, 'Test', 'Swarming_test.npy'))\n",
    "\n",
    "Noneswarming_val = np.load(os.path.join(mfccs_folder, 'Val', 'Noneswarming_val.npy'))\n",
    "Swarming_val = np.load(os.path.join(mfccs_folder, 'Val', 'Swarming_val.npy'))\n"
   ]
  },
  {
   "cell_type": "code",
   "execution_count": 2,
   "metadata": {},
   "outputs": [],
   "source": [
    "# Concatenate the data and create labels\n",
    "X_train = np.concatenate([Noneswarming_train, Swarming_train], axis=0)\n",
    "y_train = np.concatenate([np.zeros(Noneswarming_train.shape[0]), np.ones(Swarming_train.shape[0])])\n",
    "\n",
    "X_test = np.concatenate([Noneswarming_test, Swarming_test], axis=0)\n",
    "y_test = np.concatenate([np.zeros(Noneswarming_test.shape[0]), np.ones(Swarming_test.shape[0])])\n",
    "\n",
    "X_val = np.concatenate([Noneswarming_val, Swarming_val], axis=0)\n",
    "y_val = np.concatenate([np.zeros(Noneswarming_val.shape[0]), np.ones(Swarming_val.shape[0])])"
   ]
  },
  {
   "cell_type": "code",
   "execution_count": 3,
   "metadata": {},
   "outputs": [
    {
     "name": "stdout",
     "output_type": "stream",
     "text": [
      "Shape of X_train: (24732, 80)\n",
      "Shape of X_val: (4249, 80)\n",
      "Shape of X_test: (11575, 80)\n"
     ]
    }
   ],
   "source": [
    "print(\"Shape of X_train: {}\".format(X_train.shape))\n",
    "print(\"Shape of X_val: {}\".format(X_val.shape))\n",
    "print(\"Shape of X_test: {}\".format(X_test.shape))"
   ]
  },
  {
   "cell_type": "code",
   "execution_count": 4,
   "metadata": {},
   "outputs": [
    {
     "name": "stdout",
     "output_type": "stream",
     "text": [
      "Shape of X_train: (24732, 80, 1)\n",
      "Shape of X_val: (4249, 80, 1)\n",
      "Shape of X_test: (11575, 80, 1)\n"
     ]
    }
   ],
   "source": [
    "# Reshape the input data\n",
    "X_train = X_train.reshape( (X_train.shape[0], X_train.shape[1], 1) )\n",
    "X_val = X_val.reshape( (X_val.shape[0], X_val.shape[1], 1) )\n",
    "X_test = X_test.reshape( (X_test.shape[0], X_test.shape[1], 1) )\n",
    "y_train = y_train.reshape( (y_train.shape[0], 1) )\n",
    "y_val = y_val.reshape( (y_val.shape[0], 1) )\n",
    "y_test = y_test.reshape( (y_test.shape[0], 1) )\n",
    "\n",
    "print(\"Shape of X_train: {}\".format(X_train.shape))\n",
    "print(\"Shape of X_val: {}\".format(X_val.shape))\n",
    "print(\"Shape of X_test: {}\".format(X_test.shape))"
   ]
  },
  {
   "cell_type": "code",
   "execution_count": 5,
   "metadata": {},
   "outputs": [],
   "source": [
    "# Shuffle the data\n",
    "shuffle_train = np.random.permutation(len(X_train))\n",
    "X_train, y_train = X_train[shuffle_train], y_train[shuffle_train]\n",
    "\n",
    "shuffle_test = np.random.permutation(len(X_test))\n",
    "X_test, y_test = X_test[shuffle_test], y_test[shuffle_test]\n",
    "\n",
    "shuffle_val = np.random.permutation(len(X_val))\n",
    "X_val, y_val = X_val[shuffle_val], y_val[shuffle_val]"
   ]
  },
  {
   "cell_type": "code",
   "execution_count": 6,
   "metadata": {},
   "outputs": [
    {
     "name": "stderr",
     "output_type": "stream",
     "text": [
      "e:\\anaconda\\envs\\pytorch\\Lib\\site-packages\\sklearn\\preprocessing\\_label.py:114: DataConversionWarning: A column-vector y was passed when a 1d array was expected. Please change the shape of y to (n_samples, ), for example using ravel().\n",
      "  y = column_or_1d(y, warn=True)\n",
      "e:\\anaconda\\envs\\pytorch\\Lib\\site-packages\\sklearn\\preprocessing\\_label.py:132: DataConversionWarning: A column-vector y was passed when a 1d array was expected. Please change the shape of y to (n_samples, ), for example using ravel().\n",
      "  y = column_or_1d(y, dtype=self.classes_.dtype, warn=True)\n",
      "e:\\anaconda\\envs\\pytorch\\Lib\\site-packages\\sklearn\\preprocessing\\_label.py:132: DataConversionWarning: A column-vector y was passed when a 1d array was expected. Please change the shape of y to (n_samples, ), for example using ravel().\n",
      "  y = column_or_1d(y, dtype=self.classes_.dtype, warn=True)\n"
     ]
    }
   ],
   "source": [
    "from sklearn.preprocessing import LabelEncoder, StandardScaler\n",
    "\n",
    "label_encoder = LabelEncoder()\n",
    "\n",
    "# Fit and transform on training data\n",
    "y_train = label_encoder.fit_transform(y_train)\n",
    "\n",
    "# Use the same label encoder to transform validation and test data\n",
    "y_val = label_encoder.transform(y_val)\n",
    "y_test = label_encoder.transform(y_test)\n"
   ]
  },
  {
   "cell_type": "code",
   "execution_count": 7,
   "metadata": {},
   "outputs": [
    {
     "name": "stdout",
     "output_type": "stream",
     "text": [
      "WARNING:tensorflow:From e:\\anaconda\\envs\\pytorch\\Lib\\site-packages\\keras\\src\\losses.py:2976: The name tf.losses.sparse_softmax_cross_entropy is deprecated. Please use tf.compat.v1.losses.sparse_softmax_cross_entropy instead.\n",
      "\n"
     ]
    }
   ],
   "source": [
    "import matplotlib.pyplot as plt\n",
    "import pandas as pd \n",
    "from sklearn.model_selection import train_test_split\n",
    "from sklearn.preprocessing import LabelEncoder, StandardScaler\n",
    "from sklearn.metrics import *\n",
    "import seaborn as sns\n",
    "import tensorflow as tf\n",
    "from tensorflow.keras import *\n",
    "from tensorflow.keras.callbacks import *\n",
    "import time"
   ]
  },
  {
   "cell_type": "code",
   "execution_count": 8,
   "metadata": {},
   "outputs": [
    {
     "name": "stdout",
     "output_type": "stream",
     "text": [
      "WARNING:tensorflow:From e:\\anaconda\\envs\\pytorch\\Lib\\site-packages\\keras\\src\\backend.py:873: The name tf.get_default_graph is deprecated. Please use tf.compat.v1.get_default_graph instead.\n",
      "\n",
      "WARNING:tensorflow:From e:\\anaconda\\envs\\pytorch\\Lib\\site-packages\\keras\\src\\backend.py:6642: The name tf.nn.max_pool is deprecated. Please use tf.nn.max_pool2d instead.\n",
      "\n"
     ]
    }
   ],
   "source": [
    "model = models.Sequential()\n",
    "model.add(layers.Conv1D(16, 3, activation='relu', input_shape=(X_train.shape[1:])))\n",
    "model.add(layers.MaxPooling1D(2))\n",
    "model.add(layers.Conv1D(32, 3, activation='relu'))\n",
    "model.add(layers.MaxPooling1D(2))\n",
    "model.add(layers.Conv1D(64, 3, activation='relu'))\n",
    "model.add(layers.MaxPooling1D(2))\n",
    "model.add(layers.Conv1D(128, 3, activation='relu'))\n",
    "model.add(layers.MaxPooling1D(2))\n",
    "model.add(layers.Flatten())\n",
    "model.add(layers.Dense(128, activation='relu'))\n",
    "model.add(layers.Dense(1, activation='sigmoid'))"
   ]
  },
  {
   "cell_type": "code",
   "execution_count": 9,
   "metadata": {},
   "outputs": [
    {
     "name": "stdout",
     "output_type": "stream",
     "text": [
      "Model: \"sequential\"\n",
      "_________________________________________________________________\n",
      " Layer (type)                Output Shape              Param #   \n",
      "=================================================================\n",
      " conv1d (Conv1D)             (None, 78, 16)            64        \n",
      "                                                                 \n",
      " max_pooling1d (MaxPooling1  (None, 39, 16)            0         \n",
      " D)                                                              \n",
      "                                                                 \n",
      " conv1d_1 (Conv1D)           (None, 37, 32)            1568      \n",
      "                                                                 \n",
      " max_pooling1d_1 (MaxPoolin  (None, 18, 32)            0         \n",
      " g1D)                                                            \n",
      "                                                                 \n",
      " conv1d_2 (Conv1D)           (None, 16, 64)            6208      \n",
      "                                                                 \n",
      " max_pooling1d_2 (MaxPoolin  (None, 8, 64)             0         \n",
      " g1D)                                                            \n",
      "                                                                 \n",
      " conv1d_3 (Conv1D)           (None, 6, 128)            24704     \n",
      "                                                                 \n",
      " max_pooling1d_3 (MaxPoolin  (None, 3, 128)            0         \n",
      " g1D)                                                            \n",
      "                                                                 \n",
      " flatten (Flatten)           (None, 384)               0         \n",
      "                                                                 \n",
      " dense (Dense)               (None, 128)               49280     \n",
      "                                                                 \n",
      " dense_1 (Dense)             (None, 1)                 129       \n",
      "                                                                 \n",
      "=================================================================\n",
      "Total params: 81953 (320.13 KB)\n",
      "Trainable params: 81953 (320.13 KB)\n",
      "Non-trainable params: 0 (0.00 Byte)\n",
      "_________________________________________________________________\n"
     ]
    }
   ],
   "source": [
    "model.compile(optimizer=tf.keras.optimizers.Adam(learning_rate=0.00001),\n",
    "              loss='binary_crossentropy',\n",
    "              metrics=['accuracy'])\n",
    "model.summary()\n"
   ]
  },
  {
   "cell_type": "code",
   "execution_count": 10,
   "metadata": {},
   "outputs": [],
   "source": [
    "earlystopper = EarlyStopping(\n",
    "    monitor='val_loss',\n",
    "    patience=20,\n",
    "    restore_best_weights=True\n",
    ")"
   ]
  },
  {
   "cell_type": "code",
   "execution_count": 11,
   "metadata": {},
   "outputs": [
    {
     "name": "stdout",
     "output_type": "stream",
     "text": [
      "Epoch 1/100\n",
      "WARNING:tensorflow:From e:\\anaconda\\envs\\pytorch\\Lib\\site-packages\\keras\\src\\utils\\tf_utils.py:492: The name tf.ragged.RaggedTensorValue is deprecated. Please use tf.compat.v1.ragged.RaggedTensorValue instead.\n",
      "\n",
      "WARNING:tensorflow:From e:\\anaconda\\envs\\pytorch\\Lib\\site-packages\\keras\\src\\engine\\base_layer_utils.py:384: The name tf.executing_eagerly_outside_functions is deprecated. Please use tf.compat.v1.executing_eagerly_outside_functions instead.\n",
      "\n",
      "387/387 [==============================] - 4s 6ms/step - loss: 0.3211 - accuracy: 0.9530 - val_loss: 0.1290 - val_accuracy: 1.0000\n",
      "Epoch 2/100\n",
      "387/387 [==============================] - 2s 5ms/step - loss: 0.0796 - accuracy: 0.9967 - val_loss: 0.0520 - val_accuracy: 1.0000\n",
      "Epoch 3/100\n",
      "387/387 [==============================] - 2s 6ms/step - loss: 0.0314 - accuracy: 0.9977 - val_loss: 0.0288 - val_accuracy: 1.0000\n",
      "Epoch 4/100\n",
      "387/387 [==============================] - 2s 5ms/step - loss: 0.0162 - accuracy: 0.9985 - val_loss: 0.0207 - val_accuracy: 1.0000\n",
      "Epoch 5/100\n",
      "387/387 [==============================] - 2s 5ms/step - loss: 0.0099 - accuracy: 0.9991 - val_loss: 0.0143 - val_accuracy: 1.0000\n",
      "Epoch 6/100\n",
      "387/387 [==============================] - 2s 5ms/step - loss: 0.0064 - accuracy: 0.9992 - val_loss: 0.0109 - val_accuracy: 1.0000\n",
      "Epoch 7/100\n",
      "387/387 [==============================] - 2s 5ms/step - loss: 0.0045 - accuracy: 0.9994 - val_loss: 0.0083 - val_accuracy: 1.0000\n",
      "Epoch 8/100\n",
      "387/387 [==============================] - 2s 6ms/step - loss: 0.0034 - accuracy: 0.9995 - val_loss: 0.0101 - val_accuracy: 1.0000\n",
      "Epoch 9/100\n",
      "387/387 [==============================] - 2s 5ms/step - loss: 0.0026 - accuracy: 0.9997 - val_loss: 0.0057 - val_accuracy: 1.0000\n",
      "Epoch 10/100\n",
      "387/387 [==============================] - 2s 6ms/step - loss: 0.0021 - accuracy: 0.9997 - val_loss: 0.0052 - val_accuracy: 1.0000\n",
      "Epoch 11/100\n",
      "387/387 [==============================] - 2s 5ms/step - loss: 0.0016 - accuracy: 0.9999 - val_loss: 0.0028 - val_accuracy: 1.0000\n",
      "Epoch 12/100\n",
      "387/387 [==============================] - 2s 6ms/step - loss: 0.0014 - accuracy: 0.9998 - val_loss: 0.0042 - val_accuracy: 1.0000\n",
      "Epoch 13/100\n",
      "387/387 [==============================] - 2s 5ms/step - loss: 0.0011 - accuracy: 0.9999 - val_loss: 0.0045 - val_accuracy: 1.0000\n",
      "Epoch 14/100\n",
      "387/387 [==============================] - 2s 6ms/step - loss: 9.2270e-04 - accuracy: 0.9998 - val_loss: 0.0025 - val_accuracy: 1.0000\n",
      "Epoch 15/100\n",
      "387/387 [==============================] - 2s 5ms/step - loss: 7.6876e-04 - accuracy: 0.9999 - val_loss: 0.0028 - val_accuracy: 1.0000\n",
      "Epoch 16/100\n",
      "387/387 [==============================] - 2s 6ms/step - loss: 6.3213e-04 - accuracy: 1.0000 - val_loss: 0.0028 - val_accuracy: 1.0000\n",
      "Epoch 17/100\n",
      "387/387 [==============================] - 2s 6ms/step - loss: 5.6662e-04 - accuracy: 1.0000 - val_loss: 0.0020 - val_accuracy: 1.0000\n",
      "Epoch 18/100\n",
      "387/387 [==============================] - 2s 6ms/step - loss: 4.5670e-04 - accuracy: 1.0000 - val_loss: 0.0023 - val_accuracy: 1.0000\n",
      "Epoch 19/100\n",
      "387/387 [==============================] - 2s 5ms/step - loss: 4.2536e-04 - accuracy: 1.0000 - val_loss: 0.0024 - val_accuracy: 1.0000\n",
      "Epoch 20/100\n",
      "387/387 [==============================] - 3s 7ms/step - loss: 3.7252e-04 - accuracy: 1.0000 - val_loss: 0.0010 - val_accuracy: 1.0000\n",
      "Epoch 21/100\n",
      "387/387 [==============================] - 3s 8ms/step - loss: 3.1817e-04 - accuracy: 1.0000 - val_loss: 0.0032 - val_accuracy: 0.9998\n",
      "Epoch 22/100\n",
      "387/387 [==============================] - 2s 5ms/step - loss: 3.1492e-04 - accuracy: 1.0000 - val_loss: 0.0015 - val_accuracy: 1.0000\n",
      "Epoch 23/100\n",
      "387/387 [==============================] - 3s 7ms/step - loss: 2.3745e-04 - accuracy: 1.0000 - val_loss: 0.0021 - val_accuracy: 0.9998\n",
      "Epoch 24/100\n",
      "387/387 [==============================] - 3s 7ms/step - loss: 2.2063e-04 - accuracy: 1.0000 - val_loss: 0.0016 - val_accuracy: 1.0000\n",
      "Epoch 25/100\n",
      "387/387 [==============================] - 3s 7ms/step - loss: 1.8100e-04 - accuracy: 1.0000 - val_loss: 0.0021 - val_accuracy: 0.9998\n",
      "Epoch 26/100\n",
      "387/387 [==============================] - 2s 5ms/step - loss: 1.8704e-04 - accuracy: 1.0000 - val_loss: 0.0017 - val_accuracy: 0.9998\n",
      "Epoch 27/100\n",
      "387/387 [==============================] - 3s 7ms/step - loss: 1.2866e-04 - accuracy: 1.0000 - val_loss: 4.3931e-04 - val_accuracy: 1.0000\n",
      "Epoch 28/100\n",
      "387/387 [==============================] - 3s 7ms/step - loss: 1.5661e-04 - accuracy: 1.0000 - val_loss: 6.1559e-04 - val_accuracy: 1.0000\n",
      "Epoch 29/100\n",
      "387/387 [==============================] - 2s 6ms/step - loss: 1.1808e-04 - accuracy: 1.0000 - val_loss: 5.9600e-04 - val_accuracy: 1.0000\n",
      "Epoch 30/100\n",
      "387/387 [==============================] - 3s 7ms/step - loss: 1.0283e-04 - accuracy: 1.0000 - val_loss: 0.0015 - val_accuracy: 0.9998\n",
      "Epoch 31/100\n",
      "387/387 [==============================] - 2s 6ms/step - loss: 9.6552e-05 - accuracy: 1.0000 - val_loss: 3.0316e-04 - val_accuracy: 1.0000\n",
      "Epoch 32/100\n",
      "387/387 [==============================] - 2s 6ms/step - loss: 9.1762e-05 - accuracy: 1.0000 - val_loss: 9.8814e-04 - val_accuracy: 0.9998\n",
      "Epoch 33/100\n",
      "387/387 [==============================] - 3s 7ms/step - loss: 7.4843e-05 - accuracy: 1.0000 - val_loss: 9.5844e-04 - val_accuracy: 0.9998\n",
      "Epoch 34/100\n",
      "387/387 [==============================] - 2s 6ms/step - loss: 6.4663e-05 - accuracy: 1.0000 - val_loss: 0.0015 - val_accuracy: 0.9998\n",
      "Epoch 35/100\n",
      "387/387 [==============================] - 2s 6ms/step - loss: 8.0714e-05 - accuracy: 1.0000 - val_loss: 8.8209e-04 - val_accuracy: 0.9998\n",
      "Epoch 36/100\n",
      "387/387 [==============================] - 2s 6ms/step - loss: 6.7166e-05 - accuracy: 1.0000 - val_loss: 4.0614e-04 - val_accuracy: 1.0000\n",
      "Epoch 37/100\n",
      "387/387 [==============================] - 2s 5ms/step - loss: 5.4604e-05 - accuracy: 1.0000 - val_loss: 6.9120e-04 - val_accuracy: 0.9998\n",
      "Epoch 38/100\n",
      "387/387 [==============================] - 2s 6ms/step - loss: 5.1360e-05 - accuracy: 1.0000 - val_loss: 6.3577e-04 - val_accuracy: 1.0000\n",
      "Epoch 39/100\n",
      "387/387 [==============================] - 3s 7ms/step - loss: 3.8241e-05 - accuracy: 1.0000 - val_loss: 7.9908e-04 - val_accuracy: 0.9998\n",
      "Epoch 40/100\n",
      "387/387 [==============================] - 2s 6ms/step - loss: 3.7969e-05 - accuracy: 1.0000 - val_loss: 6.0547e-04 - val_accuracy: 1.0000\n",
      "Epoch 41/100\n",
      "387/387 [==============================] - 2s 6ms/step - loss: 3.5261e-05 - accuracy: 1.0000 - val_loss: 6.1793e-04 - val_accuracy: 0.9998\n",
      "Epoch 42/100\n",
      "387/387 [==============================] - 3s 6ms/step - loss: 3.0479e-05 - accuracy: 1.0000 - val_loss: 7.9626e-04 - val_accuracy: 0.9998\n",
      "Epoch 43/100\n",
      "387/387 [==============================] - 3s 6ms/step - loss: 3.1888e-05 - accuracy: 1.0000 - val_loss: 9.7756e-04 - val_accuracy: 0.9998\n",
      "Epoch 44/100\n",
      "387/387 [==============================] - 2s 5ms/step - loss: 2.5424e-05 - accuracy: 1.0000 - val_loss: 5.8584e-04 - val_accuracy: 0.9998\n",
      "Epoch 45/100\n",
      "387/387 [==============================] - 2s 6ms/step - loss: 2.5790e-05 - accuracy: 1.0000 - val_loss: 5.7915e-04 - val_accuracy: 0.9998\n",
      "Epoch 46/100\n",
      "387/387 [==============================] - 2s 5ms/step - loss: 2.7051e-05 - accuracy: 1.0000 - val_loss: 5.8512e-04 - val_accuracy: 0.9998\n",
      "Epoch 47/100\n",
      "387/387 [==============================] - 2s 6ms/step - loss: 2.4893e-05 - accuracy: 1.0000 - val_loss: 3.4140e-04 - val_accuracy: 1.0000\n",
      "Epoch 48/100\n",
      "387/387 [==============================] - 2s 6ms/step - loss: 2.0889e-05 - accuracy: 1.0000 - val_loss: 4.7856e-04 - val_accuracy: 0.9998\n",
      "Epoch 49/100\n",
      "387/387 [==============================] - 2s 6ms/step - loss: 1.7974e-05 - accuracy: 1.0000 - val_loss: 5.4784e-04 - val_accuracy: 0.9998\n",
      "Epoch 50/100\n",
      "387/387 [==============================] - 2s 6ms/step - loss: 1.6243e-05 - accuracy: 1.0000 - val_loss: 4.3332e-04 - val_accuracy: 1.0000\n",
      "Epoch 51/100\n",
      "387/387 [==============================] - 3s 7ms/step - loss: 1.6346e-05 - accuracy: 1.0000 - val_loss: 5.4004e-04 - val_accuracy: 0.9998\n",
      "Training completed in 121 seconds.\n"
     ]
    }
   ],
   "source": [
    "epochs = 100\n",
    "batch_size = 64\n",
    "current_time = int(time.time())\n",
    "stop_training_callback = earlystopper\n",
    "history = model.fit(X_train, y_train, \n",
    "                    epochs=epochs, \n",
    "                    batch_size=batch_size,\n",
    "                    validation_data=(X_val, y_val), \n",
    "                    callbacks=[stop_training_callback])\n",
    "print(\"Training completed in {} seconds.\".format(int(time.time()-current_time)))"
   ]
  },
  {
   "cell_type": "code",
   "execution_count": 12,
   "metadata": {},
   "outputs": [
    {
     "data": {
      "image/png": "[encoded data removed]",
      "text/plain": [
       "<Figure size 640x480 with 1 Axes>"
      ]
     },
     "metadata": {},
     "output_type": "display_data"
    }
   ],
   "source": [
    "plt.plot(history.history['loss'], label='Train Loss')\n",
    "# Plot validation loss\n",
    "plt.plot(history.history['val_loss'], label='Validation Loss')\n",
    "\n",
    "plt.title('Training and Validation Loss')\n",
    "plt.xlabel('Epoch')\n",
    "plt.ylabel('Loss')\n",
    "plt.legend()\n",
    "\n",
    "# Save the plot\n",
    "plt.savefig('training_loss 1D_CNN (80 MFCCs Features_plot.png')\n",
    "plt.show()"
   ]
  },
  {
   "cell_type": "code",
   "execution_count": 12,
   "metadata": {},
   "outputs": [
    {
     "name": "stdout",
     "output_type": "stream",
     "text": [
      "773/773 [==============================] - 2s 3ms/step - loss: 1.6485e-04 - accuracy: 1.0000\n",
      "Training Loss: 0.00016484998923260719\n",
      "Training Accuracy: 0.9999595880508423\n",
      "133/133 [==============================] - 0s 3ms/step - loss: 3.0316e-04 - accuracy: 1.0000\n",
      "Validation Loss: 0.00030315652838908136\n",
      "Validation Accuracy: 1.0\n",
      "362/362 [==============================] - 1s 2ms/step - loss: 0.1108 - accuracy: 0.9698\n",
      "Test Loss: 0.11082105338573456\n",
      "Test Accuracy: 0.9698488116264343\n"
     ]
    }
   ],
   "source": [
    "train_loss, train_accuracy = model.evaluate(X_train, y_train)\n",
    "print(f\"Training Loss: {train_loss}\")\n",
    "print(f\"Training Accuracy: {train_accuracy}\")\n",
    "\n",
    "val_loss, val_accuracy = model.evaluate(X_val, y_val)\n",
    "print(f\"Validation Loss: {val_loss}\")\n",
    "print(f\"Validation Accuracy: {val_accuracy}\")\n",
    "\n",
    "test_loss, test_accuracy = model.evaluate(X_test, y_test)\n",
    "print(f\"Test Loss: {test_loss}\")\n",
    "print(f\"Test Accuracy: {test_accuracy}\")"
   ]
  },
  {
   "cell_type": "code",
   "execution_count": 13,
   "metadata": {},
   "outputs": [
    {
     "name": "stdout",
     "output_type": "stream",
     "text": [
      "362/362 [==============================] - 1s 2ms/step\n"
     ]
    },
    {
     "data": {
      "image/png": "[encoded data removed]",
      "text/plain": [
       "<Figure size 800x600 with 2 Axes>"
      ]
     },
     "metadata": {},
     "output_type": "display_data"
    }
   ],
   "source": [
    "from sklearn.metrics import confusion_matrix\n",
    "import seaborn as sns\n",
    "import matplotlib.pyplot as plt\n",
    "\n",
    "# Predict on the test set\n",
    "y_pred = model.predict(X_test)\n",
    "y_pred_classes = (y_pred > 0.5).astype(int)  # Assuming a threshold of 0.5 for binary classification\n",
    "\n",
    "# Compute confusion matrix\n",
    "conf_matrix = confusion_matrix(y_test, y_pred_classes)\n",
    "\n",
    "# Plot the confusion matrix\n",
    "plt.figure(figsize=(8, 6))\n",
    "sns.heatmap(conf_matrix, annot=True, fmt='d', cmap='Blues', \n",
    "            xticklabels=['Non-Swarming', 'Swarming'], \n",
    "            yticklabels=['Non-Swarming', 'Swarming'])\n",
    "plt.title('Confusion Matrix')\n",
    "plt.xlabel('Predicted')\n",
    "plt.ylabel('True')\n",
    "plt.savefig('Confusion Matrix 1D_CNN ( 80 MFCCs Features ).png')\n",
    "plt.show()"
   ]
  }
 ],
 "metadata": {
  "kernelspec": {
   "display_name": "base",
   "language": "python",
   "name": "python3"
  },
  "language_info": {
   "codemirror_mode": {
    "name": "ipython",
    "version": 3
   },
   "file_extension": ".py",
   "mimetype": "text/x-python",
   "name": "python",
   "nbconvert_exporter": "python",
   "pygments_lexer": "ipython3",
   "version": "3.11.7"
  }
 },
 "nbformat": 4,
 "nbformat_minor": 2
}
