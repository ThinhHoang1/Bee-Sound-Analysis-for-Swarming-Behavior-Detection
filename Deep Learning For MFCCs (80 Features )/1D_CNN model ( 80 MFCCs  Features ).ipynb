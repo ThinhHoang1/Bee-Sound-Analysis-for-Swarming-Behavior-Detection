{
 "cells": [
  {
   "cell_type": "code",
   "execution_count": 18,
   "metadata": {},
   "outputs": [],
   "source": [
    "import numpy as np\n",
    "import os\n",
    "import pandas as pd\n",
    "mfccs_folder = \"D:\\Swarming project buzz1\\Features Extracted Data\\MFCCs_Features\"\n",
    "\n",
    "Noneswarming_train = np.load(os.path.join(mfccs_folder, 'Train', 'Noneswarming_train.npy'))\n",
    "Swarming_train = np.load(os.path.join(mfccs_folder, 'Train', 'Swarming_train.npy'))\n",
    "\n",
    "Noneswarming_test = np.load(os.path.join(mfccs_folder, 'Test', 'Noneswarming_test.npy'))\n",
    "Swarming_test = np.load(os.path.join(mfccs_folder, 'Test', 'Swarming_test.npy'))\n",
    "\n",
    "Noneswarming_val = np.load(os.path.join(mfccs_folder, 'Val', 'Noneswarming_val.npy'))\n",
    "Swarming_val = np.load(os.path.join(mfccs_folder, 'Val', 'Swarming_val.npy'))\n"
   ]
  },
  {
   "cell_type": "code",
   "execution_count": 19,
   "metadata": {},
   "outputs": [],
   "source": [
    "# Concatenate the data and create labels\n",
    "X_train = np.concatenate([Noneswarming_train, Swarming_train], axis=0)\n",
    "y_train = np.concatenate([np.zeros(Noneswarming_train.shape[0]), np.ones(Swarming_train.shape[0])])\n",
    "\n",
    "X_test = np.concatenate([Noneswarming_test, Swarming_test], axis=0)\n",
    "y_test = np.concatenate([np.zeros(Noneswarming_test.shape[0]), np.ones(Swarming_test.shape[0])])\n",
    "\n",
    "X_val = np.concatenate([Noneswarming_val, Swarming_val], axis=0)\n",
    "y_val = np.concatenate([np.zeros(Noneswarming_val.shape[0]), np.ones(Swarming_val.shape[0])])"
   ]
  },
  {
   "cell_type": "code",
   "execution_count": 20,
   "metadata": {},
   "outputs": [
    {
     "name": "stdout",
     "output_type": "stream",
     "text": [
      "Shape of X_train: (23385, 80)\n",
      "Shape of X_val: (5641, 80)\n",
      "Shape of X_test: (12773, 80)\n"
     ]
    }
   ],
   "source": [
    "print(\"Shape of X_train: {}\".format(X_train.shape))\n",
    "print(\"Shape of X_val: {}\".format(X_val.shape))\n",
    "print(\"Shape of X_test: {}\".format(X_test.shape))"
   ]
  },
  {
   "cell_type": "code",
   "execution_count": 21,
   "metadata": {},
   "outputs": [
    {
     "name": "stdout",
     "output_type": "stream",
     "text": [
      "Shape of X_train: (23385, 80, 1)\n",
      "Shape of X_val: (5641, 80, 1)\n",
      "Shape of X_test: (12773, 80, 1)\n"
     ]
    }
   ],
   "source": [
    "# Reshape the input data\n",
    "X_train = X_train.reshape( (X_train.shape[0], X_train.shape[1], 1) )\n",
    "X_val = X_val.reshape( (X_val.shape[0], X_val.shape[1], 1) )\n",
    "X_test = X_test.reshape( (X_test.shape[0], X_test.shape[1], 1) )\n",
    "y_train = y_train.reshape( (y_train.shape[0], 1) )\n",
    "y_val = y_val.reshape( (y_val.shape[0], 1) )\n",
    "y_test = y_test.reshape( (y_test.shape[0], 1) )\n",
    "\n",
    "print(\"Shape of X_train: {}\".format(X_train.shape))\n",
    "print(\"Shape of X_val: {}\".format(X_val.shape))\n",
    "print(\"Shape of X_test: {}\".format(X_test.shape))"
   ]
  },
  {
   "cell_type": "code",
   "execution_count": 22,
   "metadata": {},
   "outputs": [],
   "source": [
    "# Shuffle the data\n",
    "shuffle_train = np.random.permutation(len(X_train))\n",
    "X_train, y_train = X_train[shuffle_train], y_train[shuffle_train]\n",
    "\n",
    "shuffle_test = np.random.permutation(len(X_test))\n",
    "X_test, y_test = X_test[shuffle_test], y_test[shuffle_test]\n",
    "\n",
    "shuffle_val = np.random.permutation(len(X_val))\n",
    "X_val, y_val = X_val[shuffle_val], y_val[shuffle_val]"
   ]
  },
  {
   "cell_type": "code",
   "execution_count": 23,
   "metadata": {},
   "outputs": [
    {
     "name": "stderr",
     "output_type": "stream",
     "text": [
      "e:\\anaconda\\envs\\pytorch\\Lib\\site-packages\\sklearn\\preprocessing\\_label.py:114: DataConversionWarning: A column-vector y was passed when a 1d array was expected. Please change the shape of y to (n_samples, ), for example using ravel().\n",
      "  y = column_or_1d(y, warn=True)\n",
      "e:\\anaconda\\envs\\pytorch\\Lib\\site-packages\\sklearn\\preprocessing\\_label.py:132: DataConversionWarning: A column-vector y was passed when a 1d array was expected. Please change the shape of y to (n_samples, ), for example using ravel().\n",
      "  y = column_or_1d(y, dtype=self.classes_.dtype, warn=True)\n",
      "e:\\anaconda\\envs\\pytorch\\Lib\\site-packages\\sklearn\\preprocessing\\_label.py:132: DataConversionWarning: A column-vector y was passed when a 1d array was expected. Please change the shape of y to (n_samples, ), for example using ravel().\n",
      "  y = column_or_1d(y, dtype=self.classes_.dtype, warn=True)\n"
     ]
    }
   ],
   "source": [
    "from sklearn.preprocessing import LabelEncoder, StandardScaler\n",
    "\n",
    "label_encoder = LabelEncoder()\n",
    "\n",
    "# Fit and transform on training data\n",
    "y_train = label_encoder.fit_transform(y_train)\n",
    "\n",
    "# Use the same label encoder to transform validation and test data\n",
    "y_val = label_encoder.transform(y_val)\n",
    "y_test = label_encoder.transform(y_test)\n"
   ]
  },
  {
   "cell_type": "code",
   "execution_count": 24,
   "metadata": {},
   "outputs": [],
   "source": [
    "import matplotlib.pyplot as plt\n",
    "import pandas as pd \n",
    "from sklearn.model_selection import train_test_split\n",
    "from sklearn.preprocessing import LabelEncoder, StandardScaler\n",
    "from sklearn.metrics import *\n",
    "import seaborn as sns\n",
    "import tensorflow as tf\n",
    "from tensorflow.keras import *\n",
    "from tensorflow.keras.callbacks import *\n",
    "import time"
   ]
  },
  {
   "cell_type": "code",
   "execution_count": 25,
   "metadata": {},
   "outputs": [],
   "source": [
    "model = models.Sequential()\n",
    "model.add(layers.Conv1D(16, 3, activation='relu', input_shape=(X_train.shape[1:])))\n",
    "model.add(layers.MaxPooling1D(2))\n",
    "model.add(layers.Conv1D(32, 3, activation='relu'))\n",
    "model.add(layers.MaxPooling1D(2))\n",
    "model.add(layers.Conv1D(64, 3, activation='relu'))\n",
    "model.add(layers.MaxPooling1D(2))\n",
    "model.add(layers.Conv1D(128, 3, activation='relu'))\n",
    "model.add(layers.MaxPooling1D(2))\n",
    "model.add(layers.Flatten())\n",
    "model.add(layers.Dense(128, activation='relu'))\n",
    "model.add(layers.Dense(1, activation='sigmoid'))"
   ]
  },
  {
   "cell_type": "code",
   "execution_count": 26,
   "metadata": {},
   "outputs": [
    {
     "name": "stdout",
     "output_type": "stream",
     "text": [
      "Model: \"sequential_3\"\n",
      "_________________________________________________________________\n",
      " Layer (type)                Output Shape              Param #   \n",
      "=================================================================\n",
      " conv1d_12 (Conv1D)          (None, 78, 16)            64        \n",
      "                                                                 \n",
      " max_pooling1d_9 (MaxPoolin  (None, 39, 16)            0         \n",
      " g1D)                                                            \n",
      "                                                                 \n",
      " conv1d_13 (Conv1D)          (None, 37, 32)            1568      \n",
      "                                                                 \n",
      " max_pooling1d_10 (MaxPooli  (None, 18, 32)            0         \n",
      " ng1D)                                                           \n",
      "                                                                 \n",
      " conv1d_14 (Conv1D)          (None, 16, 64)            6208      \n",
      "                                                                 \n",
      " max_pooling1d_11 (MaxPooli  (None, 8, 64)             0         \n",
      " ng1D)                                                           \n",
      "                                                                 \n",
      " conv1d_15 (Conv1D)          (None, 6, 128)            24704     \n",
      "                                                                 \n",
      " max_pooling1d_12 (MaxPooli  (None, 3, 128)            0         \n",
      " ng1D)                                                           \n",
      "                                                                 \n",
      " flatten (Flatten)           (None, 384)               0         \n",
      "                                                                 \n",
      " dense (Dense)               (None, 128)               49280     \n",
      "                                                                 \n",
      " dense_1 (Dense)             (None, 1)                 129       \n",
      "                                                                 \n",
      "=================================================================\n",
      "Total params: 81953 (320.13 KB)\n",
      "Trainable params: 81953 (320.13 KB)\n",
      "Non-trainable params: 0 (0.00 Byte)\n",
      "_________________________________________________________________\n"
     ]
    }
   ],
   "source": [
    "model.compile(optimizer=tf.keras.optimizers.Adam(learning_rate=0.00001),\n",
    "              loss='binary_crossentropy',\n",
    "              metrics=['accuracy'])\n",
    "model.summary()\n"
   ]
  },
  {
   "cell_type": "code",
   "execution_count": 27,
   "metadata": {},
   "outputs": [],
   "source": [
    "earlystopper = EarlyStopping(\n",
    "    monitor='val_loss',\n",
    "    patience=20,\n",
    "    restore_best_weights=True\n",
    ")"
   ]
  },
  {
   "cell_type": "code",
   "execution_count": 28,
   "metadata": {},
   "outputs": [
    {
     "name": "stdout",
     "output_type": "stream",
     "text": [
      "Epoch 1/100\n"
     ]
    },
    {
     "name": "stdout",
     "output_type": "stream",
     "text": [
      "WARNING:tensorflow:From e:\\anaconda\\envs\\pytorch\\Lib\\site-packages\\keras\\src\\utils\\tf_utils.py:492: The name tf.ragged.RaggedTensorValue is deprecated. Please use tf.compat.v1.ragged.RaggedTensorValue instead.\n",
      "\n",
      "WARNING:tensorflow:From e:\\anaconda\\envs\\pytorch\\Lib\\site-packages\\keras\\src\\engine\\base_layer_utils.py:384: The name tf.executing_eagerly_outside_functions is deprecated. Please use tf.compat.v1.executing_eagerly_outside_functions instead.\n",
      "\n",
      "366/366 [==============================] - 4s 6ms/step - loss: 0.4085 - accuracy: 0.8672 - val_loss: 0.2118 - val_accuracy: 0.9996\n",
      "Epoch 2/100\n",
      "366/366 [==============================] - 2s 6ms/step - loss: 0.1128 - accuracy: 0.9982 - val_loss: 0.0660 - val_accuracy: 0.9993\n",
      "Epoch 3/100\n",
      "366/366 [==============================] - 2s 5ms/step - loss: 0.0351 - accuracy: 1.0000 - val_loss: 0.0317 - val_accuracy: 0.9993\n",
      "Epoch 4/100\n",
      "366/366 [==============================] - 2s 5ms/step - loss: 0.0154 - accuracy: 1.0000 - val_loss: 0.0196 - val_accuracy: 0.9993\n",
      "Epoch 5/100\n",
      "366/366 [==============================] - 2s 5ms/step - loss: 0.0078 - accuracy: 1.0000 - val_loss: 0.0133 - val_accuracy: 0.9993\n",
      "Epoch 6/100\n",
      "366/366 [==============================] - 2s 6ms/step - loss: 0.0045 - accuracy: 1.0000 - val_loss: 0.0097 - val_accuracy: 0.9995\n",
      "Epoch 7/100\n",
      "366/366 [==============================] - 2s 6ms/step - loss: 0.0028 - accuracy: 1.0000 - val_loss: 0.0073 - val_accuracy: 0.9995\n",
      "Epoch 8/100\n",
      "366/366 [==============================] - 2s 6ms/step - loss: 0.0018 - accuracy: 1.0000 - val_loss: 0.0064 - val_accuracy: 0.9995\n",
      "Epoch 9/100\n",
      "366/366 [==============================] - 2s 6ms/step - loss: 0.0012 - accuracy: 1.0000 - val_loss: 0.0057 - val_accuracy: 0.9995\n",
      "Epoch 10/100\n",
      "366/366 [==============================] - 2s 6ms/step - loss: 8.7390e-04 - accuracy: 1.0000 - val_loss: 0.0051 - val_accuracy: 0.9995\n",
      "Epoch 11/100\n",
      "366/366 [==============================] - 2s 6ms/step - loss: 6.3759e-04 - accuracy: 1.0000 - val_loss: 0.0041 - val_accuracy: 0.9998\n",
      "Epoch 12/100\n",
      "366/366 [==============================] - 2s 6ms/step - loss: 4.5856e-04 - accuracy: 1.0000 - val_loss: 0.0038 - val_accuracy: 0.9998\n",
      "Epoch 13/100\n",
      "366/366 [==============================] - 2s 6ms/step - loss: 3.4474e-04 - accuracy: 1.0000 - val_loss: 0.0034 - val_accuracy: 0.9998\n",
      "Epoch 14/100\n",
      "366/366 [==============================] - 2s 6ms/step - loss: 2.6385e-04 - accuracy: 1.0000 - val_loss: 0.0032 - val_accuracy: 0.9998\n",
      "Epoch 15/100\n",
      "366/366 [==============================] - 2s 6ms/step - loss: 2.0485e-04 - accuracy: 1.0000 - val_loss: 0.0030 - val_accuracy: 0.9998\n",
      "Epoch 16/100\n",
      "366/366 [==============================] - 2s 6ms/step - loss: 1.5954e-04 - accuracy: 1.0000 - val_loss: 0.0027 - val_accuracy: 0.9998\n",
      "Epoch 17/100\n",
      "366/366 [==============================] - 3s 7ms/step - loss: 1.2403e-04 - accuracy: 1.0000 - val_loss: 0.0026 - val_accuracy: 0.9998\n",
      "Epoch 18/100\n",
      "366/366 [==============================] - 3s 8ms/step - loss: 9.7462e-05 - accuracy: 1.0000 - val_loss: 0.0024 - val_accuracy: 0.9998\n",
      "Epoch 19/100\n",
      "366/366 [==============================] - 3s 8ms/step - loss: 7.7366e-05 - accuracy: 1.0000 - val_loss: 0.0022 - val_accuracy: 0.9998\n",
      "Epoch 20/100\n",
      "366/366 [==============================] - 3s 8ms/step - loss: 6.1519e-05 - accuracy: 1.0000 - val_loss: 0.0023 - val_accuracy: 0.9998\n",
      "Epoch 21/100\n",
      "366/366 [==============================] - 2s 6ms/step - loss: 4.9293e-05 - accuracy: 1.0000 - val_loss: 0.0021 - val_accuracy: 0.9998\n",
      "Epoch 22/100\n",
      "366/366 [==============================] - 2s 6ms/step - loss: 3.8634e-05 - accuracy: 1.0000 - val_loss: 0.0023 - val_accuracy: 0.9996\n",
      "Epoch 23/100\n",
      "366/366 [==============================] - 2s 6ms/step - loss: 2.9689e-05 - accuracy: 1.0000 - val_loss: 0.0019 - val_accuracy: 0.9998\n",
      "Epoch 24/100\n",
      "366/366 [==============================] - 2s 6ms/step - loss: 2.2879e-05 - accuracy: 1.0000 - val_loss: 0.0017 - val_accuracy: 0.9998\n",
      "Epoch 25/100\n",
      "366/366 [==============================] - 2s 6ms/step - loss: 1.8357e-05 - accuracy: 1.0000 - val_loss: 0.0017 - val_accuracy: 0.9998\n",
      "Epoch 26/100\n",
      "366/366 [==============================] - 2s 5ms/step - loss: 1.4866e-05 - accuracy: 1.0000 - val_loss: 0.0017 - val_accuracy: 0.9998\n",
      "Epoch 27/100\n",
      "366/366 [==============================] - 2s 5ms/step - loss: 1.2016e-05 - accuracy: 1.0000 - val_loss: 0.0017 - val_accuracy: 0.9998\n",
      "Epoch 28/100\n",
      "366/366 [==============================] - 2s 5ms/step - loss: 9.7220e-06 - accuracy: 1.0000 - val_loss: 0.0016 - val_accuracy: 0.9998\n",
      "Epoch 29/100\n",
      "366/366 [==============================] - 2s 6ms/step - loss: 7.9080e-06 - accuracy: 1.0000 - val_loss: 0.0019 - val_accuracy: 0.9996\n",
      "Epoch 30/100\n",
      "366/366 [==============================] - 2s 5ms/step - loss: 6.4726e-06 - accuracy: 1.0000 - val_loss: 0.0018 - val_accuracy: 0.9996\n",
      "Epoch 31/100\n",
      "366/366 [==============================] - 2s 5ms/step - loss: 5.2973e-06 - accuracy: 1.0000 - val_loss: 0.0018 - val_accuracy: 0.9996\n",
      "Epoch 32/100\n",
      "366/366 [==============================] - 2s 5ms/step - loss: 4.3016e-06 - accuracy: 1.0000 - val_loss: 0.0015 - val_accuracy: 0.9998\n",
      "Epoch 33/100\n",
      "366/366 [==============================] - 2s 5ms/step - loss: 3.5571e-06 - accuracy: 1.0000 - val_loss: 0.0016 - val_accuracy: 0.9998\n",
      "Epoch 34/100\n",
      "366/366 [==============================] - 2s 5ms/step - loss: 2.9346e-06 - accuracy: 1.0000 - val_loss: 0.0018 - val_accuracy: 0.9993\n",
      "Epoch 35/100\n",
      "366/366 [==============================] - 2s 5ms/step - loss: 2.3913e-06 - accuracy: 1.0000 - val_loss: 0.0017 - val_accuracy: 0.9995\n",
      "Epoch 36/100\n",
      "366/366 [==============================] - 2s 5ms/step - loss: 1.9695e-06 - accuracy: 1.0000 - val_loss: 0.0018 - val_accuracy: 0.9989\n",
      "Epoch 37/100\n",
      "366/366 [==============================] - 2s 5ms/step - loss: 1.6158e-06 - accuracy: 1.0000 - val_loss: 0.0017 - val_accuracy: 0.9993\n",
      "Epoch 38/100\n",
      "366/366 [==============================] - 2s 5ms/step - loss: 1.3403e-06 - accuracy: 1.0000 - val_loss: 0.0019 - val_accuracy: 0.9989\n",
      "Epoch 39/100\n",
      "366/366 [==============================] - 2s 5ms/step - loss: 1.0922e-06 - accuracy: 1.0000 - val_loss: 0.0020 - val_accuracy: 0.9989\n",
      "Epoch 40/100\n",
      "366/366 [==============================] - 2s 5ms/step - loss: 9.0879e-07 - accuracy: 1.0000 - val_loss: 0.0019 - val_accuracy: 0.9989\n",
      "Epoch 41/100\n",
      "366/366 [==============================] - 2s 5ms/step - loss: 7.4823e-07 - accuracy: 1.0000 - val_loss: 0.0018 - val_accuracy: 0.9989\n",
      "Epoch 42/100\n",
      "366/366 [==============================] - 2s 5ms/step - loss: 6.1916e-07 - accuracy: 1.0000 - val_loss: 0.0019 - val_accuracy: 0.9989\n",
      "Epoch 43/100\n",
      "366/366 [==============================] - 2s 5ms/step - loss: 5.1255e-07 - accuracy: 1.0000 - val_loss: 0.0019 - val_accuracy: 0.9989\n",
      "Epoch 44/100\n",
      "366/366 [==============================] - 2s 5ms/step - loss: 4.2345e-07 - accuracy: 1.0000 - val_loss: 0.0019 - val_accuracy: 0.9989\n",
      "Epoch 45/100\n",
      "366/366 [==============================] - 2s 6ms/step - loss: 3.4846e-07 - accuracy: 1.0000 - val_loss: 0.0023 - val_accuracy: 0.9986\n",
      "Epoch 46/100\n",
      "366/366 [==============================] - 2s 5ms/step - loss: 2.9075e-07 - accuracy: 1.0000 - val_loss: 0.0017 - val_accuracy: 0.9989\n",
      "Epoch 47/100\n",
      "366/366 [==============================] - 2s 5ms/step - loss: 2.4458e-07 - accuracy: 1.0000 - val_loss: 0.0022 - val_accuracy: 0.9988\n",
      "Epoch 48/100\n",
      "366/366 [==============================] - 2s 5ms/step - loss: 2.0471e-07 - accuracy: 1.0000 - val_loss: 0.0023 - val_accuracy: 0.9988\n",
      "Epoch 49/100\n",
      "366/366 [==============================] - 2s 5ms/step - loss: 1.6830e-07 - accuracy: 1.0000 - val_loss: 0.0020 - val_accuracy: 0.9989\n",
      "Epoch 50/100\n",
      "366/366 [==============================] - 2s 5ms/step - loss: 1.4262e-07 - accuracy: 1.0000 - val_loss: 0.0024 - val_accuracy: 0.9988\n",
      "Epoch 51/100\n",
      "366/366 [==============================] - 2s 5ms/step - loss: 1.1934e-07 - accuracy: 1.0000 - val_loss: 0.0021 - val_accuracy: 0.9988\n",
      "Epoch 52/100\n",
      "366/366 [==============================] - 2s 5ms/step - loss: 9.9242e-08 - accuracy: 1.0000 - val_loss: 0.0022 - val_accuracy: 0.9988\n",
      "Training completed in 110 seconds.\n"
     ]
    }
   ],
   "source": [
    "epochs = 100\n",
    "batch_size = 64\n",
    "current_time = int(time.time())\n",
    "stop_training_callback = earlystopper\n",
    "history = model.fit(X_train, y_train, \n",
    "                    epochs=epochs, \n",
    "                    batch_size=batch_size,\n",
    "                    validation_data=(X_val, y_val), \n",
    "                    callbacks=[stop_training_callback])\n",
    "print(\"Training completed in {} seconds.\".format(int(time.time()-current_time)))"
   ]
  },
  {
   "cell_type": "code",
   "execution_count": 29,
   "metadata": {},
   "outputs": [
    {
     "data": {
      "image/png": "[encoded data removed]",
      "text/plain": [
       "<Figure size 640x480 with 1 Axes>"
      ]
     },
     "metadata": {},
     "output_type": "display_data"
    }
   ],
   "source": [
    "plt.plot(history.history['loss'], label='Train Loss')\n",
    "# Plot validation loss\n",
    "plt.plot(history.history['val_loss'], label='Validation Loss')\n",
    "\n",
    "plt.title('Training and Validation Loss')\n",
    "plt.xlabel('Epoch')\n",
    "plt.ylabel('Loss')\n",
    "plt.legend()\n",
    "\n",
    "# Save the plot\n",
    "plt.savefig('training_loss 1D_CNN (80 MFCCs Features_plot.png')\n",
    "plt.show()"
   ]
  },
  {
   "cell_type": "code",
   "execution_count": 30,
   "metadata": {},
   "outputs": [
    {
     "name": "stdout",
     "output_type": "stream",
     "text": [
      "731/731 [==============================] - 1s 2ms/step - loss: 3.9321e-06 - accuracy: 1.0000\n",
      "Training Loss: 3.932082563551376e-06\n",
      "Training Accuracy: 1.0\n",
      "177/177 [==============================] - 0s 2ms/step - loss: 0.0015 - accuracy: 0.9998\n",
      "Validation Loss: 0.0015284809051081538\n",
      "Validation Accuracy: 0.999822735786438\n",
      "400/400 [==============================] - 1s 2ms/step - loss: 0.1550 - accuracy: 0.9702\n",
      "Test Loss: 0.1550370156764984\n",
      "Test Accuracy: 0.9701714515686035\n"
     ]
    }
   ],
   "source": [
    "train_loss, train_accuracy = model.evaluate(X_train, y_train)\n",
    "print(f\"Training Loss: {train_loss}\")\n",
    "print(f\"Training Accuracy: {train_accuracy}\")\n",
    "\n",
    "val_loss, val_accuracy = model.evaluate(X_val, y_val)\n",
    "print(f\"Validation Loss: {val_loss}\")\n",
    "print(f\"Validation Accuracy: {val_accuracy}\")\n",
    "\n",
    "test_loss, test_accuracy = model.evaluate(X_test, y_test)\n",
    "print(f\"Test Loss: {test_loss}\")\n",
    "print(f\"Test Accuracy: {test_accuracy}\")"
   ]
  },
  {
   "cell_type": "code",
   "execution_count": 31,
   "metadata": {},
   "outputs": [
    {
     "name": "stdout",
     "output_type": "stream",
     "text": [
      "400/400 [==============================] - 1s 2ms/step\n"
     ]
    },
    {
     "data": {
      "image/png": "[encoded data removed]",
      "text/plain": [
       "<Figure size 800x600 with 2 Axes>"
      ]
     },
     "metadata": {},
     "output_type": "display_data"
    }
   ],
   "source": [
    "from sklearn.metrics import confusion_matrix\n",
    "import seaborn as sns\n",
    "import matplotlib.pyplot as plt\n",
    "\n",
    "# Predict on the test set\n",
    "y_pred = model.predict(X_test)\n",
    "y_pred_classes = (y_pred > 0.5).astype(int)  # Assuming a threshold of 0.5 for binary classification\n",
    "\n",
    "# Compute confusion matrix\n",
    "conf_matrix = confusion_matrix(y_test, y_pred_classes)\n",
    "\n",
    "# Plot the confusion matrix\n",
    "plt.figure(figsize=(8, 6))\n",
    "sns.heatmap(conf_matrix, annot=True, fmt='d', cmap='Blues', \n",
    "            xticklabels=['Non-Swarming', 'Swarming'], \n",
    "            yticklabels=['Non-Swarming', 'Swarming'])\n",
    "plt.title('Confusion Matrix')\n",
    "plt.xlabel('Predicted')\n",
    "plt.ylabel('True')\n",
    "plt.savefig('Confusion Matrix 1D_CNN ( 80 MFCCs Features ).png')\n",
    "plt.show()"
   ]
  }
 ],
 "metadata": {
  "kernelspec": {
   "display_name": "base",
   "language": "python",
   "name": "python3"
  },
  "language_info": {
   "codemirror_mode": {
    "name": "ipython",
    "version": 3
   },
   "file_extension": ".py",
   "mimetype": "text/x-python",
   "name": "python",
   "nbconvert_exporter": "python",
   "pygments_lexer": "ipython3",
   "version": "3.11.7"
  }
 },
 "nbformat": 4,
 "nbformat_minor": 2
}
